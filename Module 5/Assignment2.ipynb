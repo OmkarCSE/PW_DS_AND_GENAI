{
 "cells": [
  {
   "cell_type": "raw",
   "id": "96aa69bb-ebad-4e8b-a3e3-287cad1282d8",
   "metadata": {},
   "source": [
    "##1. Discuss string slicing and provide examples.\n",
    ">>>>>>>\n",
    "String slicing in Python extracts parts of a string using the syntax string[start:stop:step], where start\n",
    "is the inclusive beginning index, stop is the exclusive end index, and step is the interval between indices.\n",
    "Omitting start defaults to 0, omitting stop defaults to the string's end, and omitting step defaults to 1."
   ]
  },
  {
   "cell_type": "code",
   "execution_count": 1,
   "id": "23bdb467-aa0f-4a2e-aeb0-e1daa11de676",
   "metadata": {},
   "outputs": [
    {
     "name": "stdout",
     "output_type": "stream",
     "text": [
      "Hello\n",
      "World\n"
     ]
    }
   ],
   "source": [
    "text = \"Hello, World!\"\n",
    "\n",
    "# Extract \"Hello\"\n",
    "slice1 = text[0:5]\n",
    "print(slice1)  # Output: Hello\n",
    "\n",
    "# Extract \"World\"\n",
    "slice2 = text[7:12]\n",
    "print(slice2)  # Output: World\n"
   ]
  },
  {
   "cell_type": "raw",
   "id": "0335e352-90d5-4f88-8080-5fa28538fdc9",
   "metadata": {},
   "source": [
    "##Explain the key features of lists in Python.\n",
    ">>>>>>>>>>\n",
    "Lists are used to store multiple items in a single variable.\n",
    "\n",
    "Lists are one of 4 built-in data types in Python used to store collections \n",
    "of data, the other 3 are Tuple,Set, and Dictionary, all with different qualities and usage.\n",
    "\n",
    "Lists are created using square brackets:\n",
    "thislist = [\"apple\", \"banana\", \"cherry\"]\n",
    "print(thislist)\n",
    "\n",
    "List Items\n",
    "List items are ordered, changeable, and allow duplicate values.\n",
    "List items are indexed, the first item has index [0], the second item has index [1] etc.\n",
    "\n",
    "1)Ordered Collection:\n",
    "Lists maintain the order of elements as they are inserted.\n",
    "Each element has a specific position (index) starting from 0.\n",
    "\n",
    "2)Mutable:\n",
    "ists can be modified after creation. You can add, remove, or change elements.\n",
    "\n",
    "3)Heterogeneous Elements:\n",
    "Lists can contain elements of different data types \n",
    "(e.g., integers, strings, floats, objects).\n",
    "\n",
    "4)Dynamic Size:\n",
    "Lists can grow and shrink in size dynamically as elements\n",
    "are added or removed.\n",
    "\n",
    "5)Indexing and Slicing:\n",
    "Lists support indexing to access individual \n",
    "elements and slicing to access a sublist.\n",
    "\n"
   ]
  },
  {
   "cell_type": "code",
   "execution_count": 1,
   "id": "368be5ff-8dc0-4cef-8165-ba1e680db679",
   "metadata": {},
   "outputs": [
    {
     "name": "stdout",
     "output_type": "stream",
     "text": [
      "apple\n",
      "banana\n",
      "date\n"
     ]
    }
   ],
   "source": [
    "##3. Describe how to access, modify, and delete elements in a list with examples.\n",
    "##>>>>>>>>>>\n",
    "# Define a list\n",
    "my_list = ['apple', 'banana', 'cherry', 'date']\n",
    "\n",
    "# Access elements by index\n",
    "first_element = my_list[0]  # 'apple'\n",
    "second_element = my_list[1]  # 'banana'\n",
    "last_element = my_list[-1]  # 'date'\n",
    "\n",
    "print(first_element)  # Output: apple\n",
    "print(second_element)  # Output: banana\n",
    "print(last_element)  # Output: date"
   ]
  },
  {
   "cell_type": "code",
   "execution_count": 2,
   "id": "5f92777e-050d-489e-9f2f-33a3286b6554",
   "metadata": {},
   "outputs": [
    {
     "name": "stdout",
     "output_type": "stream",
     "text": [
      "['apple', 'blueberry', 'cherry', 'date']\n"
     ]
    }
   ],
   "source": [
    "# Modify the second element (index 1)\n",
    "my_list[1] = 'blueberry'\n",
    "\n",
    "print(my_list)  # Output: ['apple', 'blueberry', 'cherry', 'date']"
   ]
  },
  {
   "cell_type": "code",
   "execution_count": 3,
   "id": "a3800d6b-d674-4684-964c-3d4db755ecc2",
   "metadata": {},
   "outputs": [
    {
     "name": "stdout",
     "output_type": "stream",
     "text": [
      "['apple', 'cherry', 'date']\n"
     ]
    }
   ],
   "source": [
    "# Delete the second element (index 1)\n",
    "del my_list[1]\n",
    "\n",
    "print(my_list)  # Output: ['apple', 'cherry', 'date']"
   ]
  },
  {
   "cell_type": "code",
   "execution_count": 4,
   "id": "e5504879-51be-4a52-985f-2bfc183974ed",
   "metadata": {},
   "outputs": [
    {
     "name": "stdout",
     "output_type": "stream",
     "text": [
      "banana\n",
      "['apple', 'cherry', 'date']\n"
     ]
    }
   ],
   "source": [
    "my_list = ['apple', 'banana', 'cherry', 'date']\n",
    "\n",
    "# Remove and return the second element (index 1)\n",
    "removed_element = my_list.pop(1)\n",
    "\n",
    "print(removed_element)  # Output: banana\n",
    "print(my_list)  # Output: ['apple', 'cherry', 'date']"
   ]
  },
  {
   "cell_type": "code",
   "execution_count": 5,
   "id": "18352703-7359-4801-9558-cee3d88091ec",
   "metadata": {},
   "outputs": [
    {
     "name": "stdout",
     "output_type": "stream",
     "text": [
      "['apple', 'cherry', 'date']\n"
     ]
    }
   ],
   "source": [
    "my_list = ['apple', 'banana', 'cherry', 'date']\n",
    "\n",
    "# Remove the element 'banana'\n",
    "my_list.remove('banana')\n",
    "\n",
    "print(my_list)  # Output: ['apple', 'cherry', 'date']"
   ]
  },
  {
   "cell_type": "code",
   "execution_count": 6,
   "id": "3c35a372-d1ed-48a0-b7b8-08f63f9a8f73",
   "metadata": {},
   "outputs": [
    {
     "name": "stdout",
     "output_type": "stream",
     "text": [
      "1\n",
      "4\n"
     ]
    }
   ],
   "source": [
    "##4. Compare and contrast tuples and lists with examples.\n",
    "##>>>>>>>>>>>\n",
    "# Define a tuple\n",
    "my_tuple = (1, 2, 3, 4)\n",
    "\n",
    "# Accessing elements\n",
    "first_element = my_tuple[0]  # 1\n",
    "last_element = my_tuple[-1]  # 4\n",
    "\n",
    "print(first_element)  # Output: 1\n",
    "print(last_element)  # Output: 4\n",
    "\n",
    "\n"
   ]
  },
  {
   "cell_type": "code",
   "execution_count": 7,
   "id": "bb6b2d48-5c01-427f-8cd8-03c1c09beb2f",
   "metadata": {},
   "outputs": [
    {
     "ename": "TypeError",
     "evalue": "'tuple' object does not support item assignment",
     "output_type": "error",
     "traceback": [
      "\u001b[0;31m---------------------------------------------------------------------------\u001b[0m",
      "\u001b[0;31mTypeError\u001b[0m                                 Traceback (most recent call last)",
      "Cell \u001b[0;32mIn[7], line 1\u001b[0m\n\u001b[0;32m----> 1\u001b[0m \u001b[43mmy_tuple\u001b[49m\u001b[43m[\u001b[49m\u001b[38;5;241;43m1\u001b[39;49m\u001b[43m]\u001b[49m \u001b[38;5;241m=\u001b[39m \u001b[38;5;241m10\u001b[39m\n",
      "\u001b[0;31mTypeError\u001b[0m: 'tuple' object does not support item assignment"
     ]
    }
   ],
   "source": [
    "my_tuple[1] = 10\n",
    "# Tuples are immutable\n",
    "# Attempting to modify an element will raise an error\n",
    "  # TypeError: 'tuple' object does not support item assignment"
   ]
  },
  {
   "cell_type": "code",
   "execution_count": 8,
   "id": "e3974090-91e1-4c49-9800-03547d541ce0",
   "metadata": {},
   "outputs": [
    {
     "name": "stdout",
     "output_type": "stream",
     "text": [
      "1\n",
      "4\n",
      "[1, 10, 3, 4]\n"
     ]
    }
   ],
   "source": [
    "# Define a list\n",
    "my_list = [1, 2, 3, 4]\n",
    "\n",
    "# Accessing elements\n",
    "first_element = my_list[0]  # 1\n",
    "last_element = my_list[-1]  # 4\n",
    "\n",
    "print(first_element)  # Output: 1\n",
    "print(last_element)  # Output: 4\n",
    "\n",
    "# Lists are mutable\n",
    "# Modifying an element\n",
    "my_list[1] = 10\n",
    "\n",
    "print(my_list)  # Output: [1, 10, 3, 4]\n",
    "##Tuples are immutable and list is mutable"
   ]
  },
  {
   "cell_type": "raw",
   "id": "eca4f1ef-62f1-4cb9-9d61-31e259b3e90d",
   "metadata": {},
   "source": [
    "##5. Describe the key features of sets and provide examples of their use.\n",
    "\n",
    "##>>>>>>>>>>>\n",
    "Sets are a fundamental data type in Python that provide a collection of unique elements.\n",
    "Here are the key features of sets along with examples of their use:\n",
    "### Key Features of Sets\n",
    "1. Unordered: Sets do not maintain any order of elements. The elements may appear in a different order each time you access the set.\n",
    "2. Unique Elements: Sets automatically ensure that there are no duplicate elements.\n",
    "3. Mutable: You can add or remove elements from a set.\n",
    "4. Heterogeneous: Sets can contain elements of different data types.\n",
    "5. Set Operations: Sets support mathematical set operations like union, intersection, difference, and symmetric difference.\n"
   ]
  },
  {
   "cell_type": "code",
   "execution_count": 9,
   "id": "2cce57fa-fb27-4e1f-93b6-7dbf750ee0d2",
   "metadata": {},
   "outputs": [
    {
     "name": "stdout",
     "output_type": "stream",
     "text": [
      "{1, 2, 3, 4, 5}\n",
      "{1, 2, 3, 4, 5}\n"
     ]
    }
   ],
   "source": [
    "# Using curly braces\n",
    "my_set = {1, 2, 3, 4, 5}\n",
    "\n",
    "# Using the set() function\n",
    "another_set = set([1, 2, 3, 4, 5])\n",
    "\n",
    "print(my_set)  # Output: {1, 2, 3, 4, 5}\n",
    "print(another_set)  # Output: {1, 2, 3, 4, 5}"
   ]
  },
  {
   "cell_type": "code",
   "execution_count": 10,
   "id": "58449dc1-e106-4f4b-8d8f-3831470cdcc5",
   "metadata": {},
   "outputs": [
    {
     "name": "stdout",
     "output_type": "stream",
     "text": [
      "{1, 4}\n"
     ]
    }
   ],
   "source": [
    "# Define a set\n",
    "my_set = {1, 2, 3}\n",
    "\n",
    "# Add an element\n",
    "my_set.add(4)\n",
    "\n",
    "# Remove an element\n",
    "my_set.remove(2)  # Raises KeyError if the element is not present\n",
    "my_set.discard(3)  # Does not raise an error if the element is not present\n",
    "\n",
    "print(my_set)  # Output: {1, 4}"
   ]
  },
  {
   "cell_type": "code",
   "execution_count": 11,
   "id": "c04d3ff2-8023-44e2-80d4-848e98760e1e",
   "metadata": {},
   "outputs": [
    {
     "name": "stdout",
     "output_type": "stream",
     "text": [
      "{1, 2, 3, 4, 5}\n"
     ]
    }
   ],
   "source": [
    "##Set Operations\n",
    "set1 = {1, 2, 3}\n",
    "set2 = {3, 4, 5}\n",
    "\n",
    "union_set = set1.union(set2)\n",
    "print(union_set)  # Output: {1, 2, 3, 4, 5}\n",
    "#Union: Combines elements from both sets"
   ]
  },
  {
   "cell_type": "code",
   "execution_count": 12,
   "id": "0e1914f0-c167-4270-9fcf-ca30eab0f533",
   "metadata": {},
   "outputs": [
    {
     "name": "stdout",
     "output_type": "stream",
     "text": [
      "{3}\n"
     ]
    }
   ],
   "source": [
    "#Intersection: Returns elements that are common to both sets.\n",
    "intersection_set = set1.intersection(set2)\n",
    "print(intersection_set)  # Output: {3}"
   ]
  },
  {
   "cell_type": "code",
   "execution_count": 13,
   "id": "6dd55532-b4f2-4c2d-b5b1-6d021acab877",
   "metadata": {},
   "outputs": [
    {
     "name": "stdout",
     "output_type": "stream",
     "text": [
      "{1, 2}\n"
     ]
    }
   ],
   "source": [
    "#Difference: Returns elements that are in the first set but not in the second set.\n",
    "difference_set = set1.difference(set2)\n",
    "print(difference_set)  # Output: {1, 2}"
   ]
  },
  {
   "cell_type": "code",
   "execution_count": 14,
   "id": "c2ffbab3-967a-45e6-8952-fbe38058e5c3",
   "metadata": {},
   "outputs": [
    {
     "name": "stdout",
     "output_type": "stream",
     "text": [
      "{1, 2, 4, 5}\n"
     ]
    }
   ],
   "source": [
    "##Symmetric Difference: Returns elements that are in either of the sets, but not in both.\n",
    "symmetric_difference_set = set1.symmetric_difference(set2)\n",
    "print(symmetric_difference_set)  # Output: {1, 2, 4, 5}"
   ]
  },
  {
   "cell_type": "code",
   "execution_count": 15,
   "id": "1c86e777-4167-4bf0-8c83-44fce90e561a",
   "metadata": {},
   "outputs": [
    {
     "name": "stdout",
     "output_type": "stream",
     "text": [
      "True\n",
      "False\n"
     ]
    }
   ],
   "source": [
    "## membership operator\n",
    "my_set = {1, 2, 3, 4, 5}\n",
    "\n",
    "print(3 in my_set)  # Output: True\n",
    "print(6 in my_set)  # Output: False"
   ]
  },
  {
   "cell_type": "code",
   "execution_count": 16,
   "id": "daec327b-5519-49a4-af93-f384fd9d63b8",
   "metadata": {},
   "outputs": [
    {
     "name": "stdout",
     "output_type": "stream",
     "text": [
      "1\n",
      "2\n",
      "3\n",
      "4\n",
      "5\n"
     ]
    }
   ],
   "source": [
    "#iterating sets\n",
    "my_set = {1, 2, 3, 4, 5}\n",
    "\n",
    "for element in my_set:\n",
    "    print(element)"
   ]
  },
  {
   "cell_type": "raw",
   "id": "fce7e45c-0e9d-4f0d-b885-9a8d6782c991",
   "metadata": {},
   "source": [
    "##6. Discuss the use cases of tuples and sets in Python programming.\n",
    "#>>>>>>>>\n",
    "Tuples:\n",
    "1.Fixed Collections of Items:\n",
    "Tuples are ideal for representing a fixed collection of items that should\n",
    "not change. This immutability ensures that the data remains \n",
    "constant throughout the program's execution.\n",
    "\n",
    "2.Function Return Values:\n",
    "Functions often return multiple values packed in a tuple. This allows for \n",
    "a neat and organized way to return more than one value without the need for a\n",
    "complex data structure.\n",
    "\n",
    "3.Immutable Records:\n",
    "Tuples can represent records or data structures where the data should remain unchanged.\n",
    "For instance, storing configuration settings or constant values that should not be altered.\n",
    "\n",
    "4.Dictionary Keys:\n",
    "Tuples can be used as dictionary keys because they are immutable and hashable. This is particularly \n",
    "useful when you need a compound key to map relationships between data.\n",
    "\n",
    "5.Data Integrity:\n",
    "Tuples are used to ensure data integrity by preventing accidental modifications.\n",
    "This is beneficial in situations where the data should remain consistent and unaltered.\n",
    "Use Cases of Sets in Python Programming\n",
    "\n",
    "Set:\n",
    "1.Removing Duplicates:\n",
    "Sets are commonly used to eliminate duplicate values from a collection. \n",
    "This is useful for data cleansing and ensuring uniqueness in lists of items.\n",
    "\n",
    "2.Membership Testing:\n",
    "Sets provide efficient membership testing, making them ideal for scenarios \n",
    "where you need to frequently check if an element exists in a collection.\n",
    "\n",
    "3.Mathematical Set Operations:\n",
    "Sets support operations like union, intersection, difference, \n",
    "and symmetric difference, which are useful in various computational \n",
    "and data analysis tasks.\n",
    "\n",
    "4.Data Filtering:\n",
    "Sets can be used to filter data by removing unwanted elements or \n",
    "identifying unique items. This is beneficial in processing large datasets.\n",
    "\n",
    "5Efficient Data Lookup:\n",
    "Sets offer O(1) average time complexity for membership tests, \n",
    "making them efficient for lookups compared to lists."
   ]
  },
  {
   "cell_type": "code",
   "execution_count": 17,
   "id": "b89ecd76-c66e-4fda-91f1-5bb3b28c5910",
   "metadata": {},
   "outputs": [
    {
     "name": "stdout",
     "output_type": "stream",
     "text": [
      "{'name': 'Alice', 'age': 25, 'city': 'New York'}\n"
     ]
    }
   ],
   "source": [
    "##7. Describe how to add, modify, and delete items in a dictionary with examples.\n",
    "##>>>>>>>>>>>>\n",
    "# Define a dictionary\n",
    "my_dict = {'name': 'Alice', 'age': 25}\n",
    "\n",
    "# Add a new key-value pair\n",
    "my_dict['city'] = 'New York'\n",
    "\n",
    "print(my_dict)  # Output: {'name': 'Alice', 'age': 25, 'city': 'New York'}\n"
   ]
  },
  {
   "cell_type": "code",
   "execution_count": 18,
   "id": "0db770dd-2c13-4d03-b59b-b1cebcb79fe9",
   "metadata": {},
   "outputs": [
    {
     "name": "stdout",
     "output_type": "stream",
     "text": [
      "{'name': 'Alice', 'age': 25, 'city': 'New York', 'occupation': 'Engineer'}\n"
     ]
    }
   ],
   "source": [
    "# Define a dictionary\n",
    "my_dict = {'name': 'Alice', 'age': 25}\n",
    "\n",
    "# Add multiple key-value pairs\n",
    "my_dict.update({'city': 'New York', 'occupation': 'Engineer'})\n",
    "\n",
    "print(my_dict)  # Output: {'name': 'Alice', 'age': 25, 'city': 'New York', 'occupation': 'Engineer'}\n"
   ]
  },
  {
   "cell_type": "code",
   "execution_count": 19,
   "id": "a95285cc-5afd-4eed-a6a7-6b8b0dc6dd49",
   "metadata": {},
   "outputs": [
    {
     "name": "stdout",
     "output_type": "stream",
     "text": [
      "{'name': 'Alice', 'age': 26, 'city': 'New York'}\n"
     ]
    }
   ],
   "source": [
    "# Define a dictionary\n",
    "my_dict = {'name': 'Alice', 'age': 25, 'city': 'New York'}\n",
    "\n",
    "# Modify an existing key-value pair\n",
    "my_dict['age'] = 26\n",
    "\n",
    "print(my_dict)  # Output: {'name': 'Alice', 'age': 26, 'city': 'New York'}\n"
   ]
  },
  {
   "cell_type": "code",
   "execution_count": 20,
   "id": "02d06f3f-eeb8-42f4-a7bc-475047b0e506",
   "metadata": {},
   "outputs": [
    {
     "name": "stdout",
     "output_type": "stream",
     "text": [
      "{'name': 'Alice', 'age': 26, 'city': 'Los Angeles'}\n"
     ]
    }
   ],
   "source": [
    "# Define a dictionary\n",
    "my_dict = {'name': 'Alice', 'age': 25, 'city': 'New York'}\n",
    "\n",
    "# Modify multiple key-value pairs\n",
    "my_dict.update({'age': 26, 'city': 'Los Angeles'})\n",
    "\n",
    "print(my_dict)  # Output: {'name': 'Alice', 'age': 26, 'city': 'Los Angeles'}\n"
   ]
  },
  {
   "cell_type": "code",
   "execution_count": 21,
   "id": "4f65df76-e3de-4809-a4ac-2ed7c2196906",
   "metadata": {},
   "outputs": [
    {
     "name": "stdout",
     "output_type": "stream",
     "text": [
      "{'name': 'Alice', 'age': 25}\n"
     ]
    }
   ],
   "source": [
    "# Define a dictionary\n",
    "my_dict = {'name': 'Alice', 'age': 25, 'city': 'New York'}\n",
    "\n",
    "# Delete a key-value pair\n",
    "del my_dict['city']\n",
    "\n",
    "print(my_dict)  # Output: {'name': 'Alice', 'age': 25}\n"
   ]
  },
  {
   "cell_type": "code",
   "execution_count": 22,
   "id": "e449c548-83ae-4469-bd9e-a3be2045bf5e",
   "metadata": {},
   "outputs": [
    {
     "name": "stdout",
     "output_type": "stream",
     "text": [
      "25\n",
      "{'name': 'Alice', 'city': 'New York'}\n"
     ]
    }
   ],
   "source": [
    "# Define a dictionary\n",
    "my_dict = {'name': 'Alice', 'age': 25, 'city': 'New York'}\n",
    "\n",
    "# Remove a key-value pair and get its value\n",
    "age = my_dict.pop('age')\n",
    "\n",
    "print(age)  # Output: 25\n",
    "print(my_dict)  # Output: {'name': 'Alice', 'city': 'New York'}\n"
   ]
  },
  {
   "cell_type": "raw",
   "id": "7c81563c-6a8c-4686-9182-4bbfdd7c3f83",
   "metadata": {},
   "source": [
    "### 8. Discuss the importance of dictionary keys being immutable and provide examples.\n",
    ">>>>>\n",
    "#### Key Points:\n",
    "\n",
    "1. Hashing:\n",
    "   - Immutable keys have a consistent hash value, which \n",
    "   is essential for locating values in a hash table.\n",
    "  \n",
    "2. Consistency:\n",
    "   - Immutable keys ensure that the key-value pair remains \n",
    "    constant, preventing accidental changes.\n",
    "\n",
    "3. Efficiency:\n",
    "   - Immutable keys enhance performance by avoiding the need to \n",
    "     recalculate hash values.\n",
    "\n",
    "4. Error Prevention:\n",
    "   - Using immutable keys avoids bugs that could arise from \n",
    "     changing keys, ensuring data integrity.\n",
    "\n",
    "### Examples of Immutable and Mutable Keys\n",
    "\n",
    "#### Immutable Keys\n",
    "\n",
    "1. Strings:\n",
    "   ```python\n",
    "   my_dict = {'name': 'Alice', 'age': 25}\n",
    "   ```\n",
    "\n",
    "2. Numbers:\n",
    "   ```python\n",
    "   my_dict = {1: 'one', 2: 'two'}\n",
    "   ```\n",
    "\n",
    "3. Tuples:\n",
    "   ```python\n",
    "   my_dict = {(1, 2): 'a', (3, 4): 'b'}\n",
    "   ```\n",
    "\n",
    "#### Mutable Keys (Not Allowed)\n",
    "\n",
    "1. Lists:\n",
    "   ```python\n",
    "   my_dict = {[1, 2, 3]: 'a'}  # Raises TypeError\n",
    "   ```\n",
    "\n",
    "2. Dictionaries:\n",
    "   ```python\n",
    "   key = {'a': 1, 'b': 2}\n",
    "   my_dict = {key: 'value'}  # Raises TypeError\n",
    "   ```\n",
    "\n"
   ]
  }
 ],
 "metadata": {
  "kernelspec": {
   "display_name": "Python 3 (ipykernel)",
   "language": "python",
   "name": "python3"
  },
  "language_info": {
   "codemirror_mode": {
    "name": "ipython",
    "version": 3
   },
   "file_extension": ".py",
   "mimetype": "text/x-python",
   "name": "python",
   "nbconvert_exporter": "python",
   "pygments_lexer": "ipython3",
   "version": "3.10.8"
  }
 },
 "nbformat": 4,
 "nbformat_minor": 5
}
