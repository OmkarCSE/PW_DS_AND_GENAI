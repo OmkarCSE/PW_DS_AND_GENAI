{
 "cells": [
  {
   "cell_type": "code",
   "execution_count": 1,
   "id": "34e82674-30c6-4854-ab96-e83557ab3319",
   "metadata": {},
   "outputs": [],
   "source": [
    "## string is a sequence of characters >> represent and manipulate textual data\n",
    "##characters represented using numerical values >> each character is assigned a unique value\n",
    "##ASCII (7 bits) and unicode (16 bits)\n",
    "##ASCII>> american standard code for information interchange\n",
    "##UTF (unicode transformation format) UTF-8,UTF 16>> popular scemes for unicode"
   ]
  },
  {
   "cell_type": "code",
   "execution_count": 2,
   "id": "d7d9bcc1-b5a4-4629-bfb1-e6c2b8616b93",
   "metadata": {},
   "outputs": [
    {
     "data": {
      "text/plain": [
       "'ॳ'"
      ]
     },
     "execution_count": 2,
     "metadata": {},
     "output_type": "execute_result"
    }
   ],
   "source": [
    "'\\u0973' ##unicode"
   ]
  },
  {
   "cell_type": "code",
   "execution_count": 3,
   "id": "9c94b3f8-0bde-4602-8709-8b157918bcbc",
   "metadata": {},
   "outputs": [
    {
     "data": {
      "text/plain": [
       "'ॴ'"
      ]
     },
     "execution_count": 3,
     "metadata": {},
     "output_type": "execute_result"
    }
   ],
   "source": [
    "'\\u0974'"
   ]
  },
  {
   "cell_type": "code",
   "execution_count": 4,
   "id": "ce73f04e-6ab8-4ff0-8c41-10df95a922e2",
   "metadata": {},
   "outputs": [
    {
     "data": {
      "text/plain": [
       "' my name is omkar\\nand i lives in pune\\nand study in sspu '"
      ]
     },
     "execution_count": 4,
     "metadata": {},
     "output_type": "execute_result"
    }
   ],
   "source": [
    "''' my name is omkar\n",
    "and i lives in pune\n",
    "and study in sspu '''"
   ]
  },
  {
   "cell_type": "code",
   "execution_count": 5,
   "id": "6c57b96e-f24f-4951-bd35-fd88c1ce39b4",
   "metadata": {},
   "outputs": [],
   "source": [
    "#concatination of string"
   ]
  },
  {
   "cell_type": "code",
   "execution_count": 9,
   "id": "efa3e598-2044-4f3a-b0f0-da047799c4fe",
   "metadata": {},
   "outputs": [
    {
     "data": {
      "text/plain": [
       "'hii ,im omkar'"
      ]
     },
     "execution_count": 9,
     "metadata": {},
     "output_type": "execute_result"
    }
   ],
   "source": [
    "\"hello \"+\"world\"\n",
    "\n",
    "s1=\"hii\"\n",
    "s2=\"im omkar\"\n",
    "s1+ \" ,\" + s2"
   ]
  },
  {
   "cell_type": "code",
   "execution_count": 10,
   "id": "17c83e8b-dc9f-4a0e-9dab-b4a1ed15c051",
   "metadata": {},
   "outputs": [],
   "source": [
    "##slicing of string"
   ]
  },
  {
   "cell_type": "code",
   "execution_count": 11,
   "id": "3002ed3b-b19b-4793-83a5-4ae1dc745acb",
   "metadata": {},
   "outputs": [
    {
     "data": {
      "text/plain": [
       "'o'"
      ]
     },
     "execution_count": 11,
     "metadata": {},
     "output_type": "execute_result"
    }
   ],
   "source": [
    "a=\"omkar\"\n",
    "a[0]"
   ]
  },
  {
   "cell_type": "code",
   "execution_count": 12,
   "id": "9acebc97-1497-452d-888c-6537c59a3d45",
   "metadata": {},
   "outputs": [
    {
     "data": {
      "text/plain": [
       "'r'"
      ]
     },
     "execution_count": 12,
     "metadata": {},
     "output_type": "execute_result"
    }
   ],
   "source": [
    "a[-1]"
   ]
  },
  {
   "cell_type": "code",
   "execution_count": 13,
   "id": "b77663a0-15a2-4633-9d27-80041536be0f",
   "metadata": {},
   "outputs": [
    {
     "data": {
      "text/plain": [
       "'I am'"
      ]
     },
     "execution_count": 13,
     "metadata": {},
     "output_type": "execute_result"
    }
   ],
   "source": [
    "str1=\"I am omkar j\"\n",
    "str1[0:4]"
   ]
  },
  {
   "cell_type": "code",
   "execution_count": 14,
   "id": "19361472-2ce0-4e00-a396-b8a5ae376b72",
   "metadata": {},
   "outputs": [
    {
     "data": {
      "text/plain": [
       "'I am omkar j'"
      ]
     },
     "execution_count": 14,
     "metadata": {},
     "output_type": "execute_result"
    }
   ],
   "source": [
    "str1[0:]#start index: end index"
   ]
  },
  {
   "cell_type": "code",
   "execution_count": 15,
   "id": "9062e862-de27-4cc1-8ad4-c279d76e8685",
   "metadata": {},
   "outputs": [],
   "source": [
    "str2=\"pwskills\""
   ]
  },
  {
   "cell_type": "code",
   "execution_count": 16,
   "id": "3123a6e4-09bc-4927-87a7-a0d4fc9d4e0b",
   "metadata": {},
   "outputs": [
    {
     "data": {
      "text/plain": [
       "'l'"
      ]
     },
     "execution_count": 16,
     "metadata": {},
     "output_type": "execute_result"
    }
   ],
   "source": [
    "str2[-2]"
   ]
  },
  {
   "cell_type": "code",
   "execution_count": 18,
   "id": "02117baa-e516-4000-bc0c-0a4e57a2c5eb",
   "metadata": {},
   "outputs": [
    {
     "data": {
      "text/plain": [
       "'pwski'"
      ]
     },
     "execution_count": 18,
     "metadata": {},
     "output_type": "execute_result"
    }
   ],
   "source": [
    "## all except last 3 char\n",
    "str2[:-3]"
   ]
  },
  {
   "cell_type": "code",
   "execution_count": 19,
   "id": "8382eb1a-163d-49fc-b52e-373f81597d0f",
   "metadata": {},
   "outputs": [
    {
     "data": {
      "text/plain": [
       "'lls'"
      ]
     },
     "execution_count": 19,
     "metadata": {},
     "output_type": "execute_result"
    }
   ],
   "source": [
    "str2[-3:]## last 3"
   ]
  },
  {
   "cell_type": "code",
   "execution_count": 20,
   "id": "43562eb1-9c7e-4e17-84a8-11407721d5c4",
   "metadata": {},
   "outputs": [
    {
     "data": {
      "text/plain": [
       "'hlo'"
      ]
     },
     "execution_count": 20,
     "metadata": {},
     "output_type": "execute_result"
    }
   ],
   "source": [
    "str3=\"hello world\"\n",
    "str3[0:5:2]"
   ]
  },
  {
   "cell_type": "code",
   "execution_count": 21,
   "id": "c86e8239-e0af-4895-b14a-19bfa9ab32b7",
   "metadata": {},
   "outputs": [
    {
     "data": {
      "text/plain": [
       "'hello world'"
      ]
     },
     "execution_count": 21,
     "metadata": {},
     "output_type": "execute_result"
    }
   ],
   "source": [
    "str3[::1]#by default is 1"
   ]
  },
  {
   "cell_type": "code",
   "execution_count": 22,
   "id": "a1f40c99-df98-4642-8e7f-148e16697756",
   "metadata": {},
   "outputs": [
    {
     "data": {
      "text/plain": [
       "'hlowrd'"
      ]
     },
     "execution_count": 22,
     "metadata": {},
     "output_type": "execute_result"
    }
   ],
   "source": [
    "str3[::2]"
   ]
  },
  {
   "cell_type": "code",
   "execution_count": 24,
   "id": "b90e184c-afc0-4e29-b065-7010fb3099df",
   "metadata": {},
   "outputs": [
    {
     "data": {
      "text/plain": [
       "'dlrow olleh'"
      ]
     },
     "execution_count": 24,
     "metadata": {},
     "output_type": "execute_result"
    }
   ],
   "source": [
    "str3[::-1]\n",
    "# iterete ower seuence in reverce order\n",
    "#start from end , move to beginning and step backwards \n",
    "## by one character"
   ]
  },
  {
   "cell_type": "code",
   "execution_count": 25,
   "id": "fd7db020-c293-4ac6-86e2-bcf70281f02b",
   "metadata": {},
   "outputs": [
    {
     "ename": "TypeError",
     "evalue": "'str' object does not support item assignment",
     "output_type": "error",
     "traceback": [
      "\u001b[0;31m---------------------------------------------------------------------------\u001b[0m",
      "\u001b[0;31mTypeError\u001b[0m                                 Traceback (most recent call last)",
      "Cell \u001b[0;32mIn[25], line 3\u001b[0m\n\u001b[1;32m      1\u001b[0m \u001b[38;5;66;03m## strings are immutable\u001b[39;00m\n\u001b[1;32m      2\u001b[0m s\u001b[38;5;241m=\u001b[39m\u001b[38;5;124m\"\u001b[39m\u001b[38;5;124momkar\u001b[39m\u001b[38;5;124m\"\u001b[39m\n\u001b[0;32m----> 3\u001b[0m \u001b[43ms\u001b[49m\u001b[43m[\u001b[49m\u001b[38;5;241;43m0\u001b[39;49m\u001b[43m]\u001b[49m\u001b[38;5;241m=\u001b[39ma\n",
      "\u001b[0;31mTypeError\u001b[0m: 'str' object does not support item assignment"
     ]
    }
   ],
   "source": [
    "## strings are immutable\n",
    "s=\"omkar\"\n",
    "s[0]=a"
   ]
  },
  {
   "cell_type": "code",
   "execution_count": 27,
   "id": "b2ae3991-a734-4f54-a069-b3a4b812efb7",
   "metadata": {},
   "outputs": [
    {
     "data": {
      "text/plain": [
       "5"
      ]
     },
     "execution_count": 27,
     "metadata": {},
     "output_type": "execute_result"
    }
   ],
   "source": [
    "len(s)#length of string"
   ]
  },
  {
   "cell_type": "code",
   "execution_count": 28,
   "id": "cd4b5769-c31d-4393-af15-a2774928bd44",
   "metadata": {},
   "outputs": [
    {
     "data": {
      "text/plain": [
       "'im student'"
      ]
     },
     "execution_count": 28,
     "metadata": {},
     "output_type": "execute_result"
    }
   ],
   "source": [
    "## modification of string\n",
    "## we can replace the string\n",
    "ss=\"im omkar\"\n",
    "ss.replace(\"omkar\",\"student\")"
   ]
  },
  {
   "cell_type": "code",
   "execution_count": 29,
   "id": "59d1dcfa-77f9-468c-a880-fedae44df117",
   "metadata": {},
   "outputs": [
    {
     "data": {
      "text/plain": [
       "'hello world'"
      ]
     },
     "execution_count": 29,
     "metadata": {},
     "output_type": "execute_result"
    }
   ],
   "source": [
    "text=\"hello world\"\n",
    "text.lower()"
   ]
  },
  {
   "cell_type": "code",
   "execution_count": 30,
   "id": "c10f05bf-b5a7-4f76-9d99-8e925b4ac7e0",
   "metadata": {},
   "outputs": [
    {
     "data": {
      "text/plain": [
       "'HELLO WORLD'"
      ]
     },
     "execution_count": 30,
     "metadata": {},
     "output_type": "execute_result"
    }
   ],
   "source": [
    "text.upper()"
   ]
  },
  {
   "cell_type": "code",
   "execution_count": 31,
   "id": "dd8fc6ba-b4ba-4a81-84f1-0963d6789863",
   "metadata": {},
   "outputs": [
    {
     "data": {
      "text/plain": [
       "'Hello World'"
      ]
     },
     "execution_count": 31,
     "metadata": {},
     "output_type": "execute_result"
    }
   ],
   "source": [
    "text.title()"
   ]
  },
  {
   "cell_type": "code",
   "execution_count": 32,
   "id": "6576dfc7-37b4-45fd-89dc-b4e82bc3a090",
   "metadata": {},
   "outputs": [],
   "source": [
    "text1=\"I am student\""
   ]
  },
  {
   "cell_type": "code",
   "execution_count": 33,
   "id": "64381154-e108-456a-bbea-17839f3f1cf7",
   "metadata": {},
   "outputs": [
    {
     "data": {
      "text/plain": [
       "'i AM STUDENT'"
      ]
     },
     "execution_count": 33,
     "metadata": {},
     "output_type": "execute_result"
    }
   ],
   "source": [
    "text1.swapcase()"
   ]
  },
  {
   "cell_type": "code",
   "execution_count": 37,
   "id": "5d595ddf-bee7-4004-b108-373ca9963a35",
   "metadata": {},
   "outputs": [
    {
     "data": {
      "text/plain": [
       "'I am student'"
      ]
     },
     "execution_count": 37,
     "metadata": {},
     "output_type": "execute_result"
    }
   ],
   "source": [
    "text1.capitalize()"
   ]
  },
  {
   "cell_type": "code",
   "execution_count": 38,
   "id": "4301a6dd-b608-462c-a08d-f2fb0f35cc62",
   "metadata": {},
   "outputs": [
    {
     "data": {
      "text/plain": [
       "True"
      ]
     },
     "execution_count": 38,
     "metadata": {},
     "output_type": "execute_result"
    }
   ],
   "source": [
    "#searching\n",
    "txt=\"im omkar j\"\n",
    "\"o\" in txt"
   ]
  },
  {
   "cell_type": "code",
   "execution_count": 39,
   "id": "2b1dad23-92a2-42d3-bb88-7852c7ea7875",
   "metadata": {},
   "outputs": [
    {
     "name": "stdout",
     "output_type": "stream",
     "text": [
      "invalid mail\n"
     ]
    }
   ],
   "source": [
    "email=\"123\"\n",
    "if \"@\" in email:\n",
    "    print(\"valid mail\")\n",
    "else:\n",
    "    print(\"invalid mail\")"
   ]
  },
  {
   "cell_type": "code",
   "execution_count": 40,
   "id": "6abe2ce5-9517-4444-bb67-6f16de947cec",
   "metadata": {},
   "outputs": [
    {
     "data": {
      "text/plain": [
       "True"
      ]
     },
     "execution_count": 40,
     "metadata": {},
     "output_type": "execute_result"
    }
   ],
   "source": [
    "## comparison\n",
    "abc=\"omk\"\n",
    "ab=\"omk\"\n",
    "abc==ab\n"
   ]
  },
  {
   "cell_type": "code",
   "execution_count": 41,
   "id": "8d3cd589-a662-40b0-a0f3-a9b2f990ad08",
   "metadata": {},
   "outputs": [
    {
     "data": {
      "text/plain": [
       "True"
      ]
     },
     "execution_count": 41,
     "metadata": {},
     "output_type": "execute_result"
    }
   ],
   "source": [
    "abc1=\"hii\"\n",
    "abc2=\"HII\"\n",
    "abc1.lower()==abc2.lower()\n"
   ]
  },
  {
   "cell_type": "code",
   "execution_count": 42,
   "id": "a36805e8-41a1-4656-8f52-b32ef2df2303",
   "metadata": {},
   "outputs": [
    {
     "name": "stdout",
     "output_type": "stream",
     "text": [
      "username is available\n"
     ]
    }
   ],
   "source": [
    "reg_username=[\"pw\",\"PW\",\"Pw\"]\n",
    "new_user=\"pw1\"\n",
    "if new_user in reg_username:\n",
    "    print(\"username alredy exist\")\n",
    "else:\n",
    "    print(\"username is available\")"
   ]
  },
  {
   "cell_type": "code",
   "execution_count": 44,
   "id": "f3313127-ee94-4697-bb40-4adad4361d3c",
   "metadata": {},
   "outputs": [
    {
     "data": {
      "text/plain": [
       "['ajay', 'binod', 'omk']"
      ]
     },
     "execution_count": 44,
     "metadata": {},
     "output_type": "execute_result"
    }
   ],
   "source": [
    "#string ordering\n",
    "n=[\"omk\",\"ajay\",\"binod\"]\n",
    "sorted(n)"
   ]
  },
  {
   "cell_type": "code",
   "execution_count": 47,
   "id": "9b01770c-80ad-4e2a-9a30-d09a54ecf027",
   "metadata": {},
   "outputs": [
    {
     "data": {
      "text/plain": [
       "'jnjkn'"
      ]
     },
     "execution_count": 47,
     "metadata": {},
     "output_type": "execute_result"
    }
   ],
   "source": [
    "##common string operations\n",
    "ipstr=\"              jnjkn               \"\n",
    "ipstr.strip()## removes space"
   ]
  },
  {
   "cell_type": "code",
   "execution_count": 49,
   "id": "81650f5a-1972-4fb4-a575-7abb70b4d9c7",
   "metadata": {},
   "outputs": [
    {
     "data": {
      "text/plain": [
       "['omkar ', 'ds ', ' cs']"
      ]
     },
     "execution_count": 49,
     "metadata": {},
     "output_type": "execute_result"
    }
   ],
   "source": [
    "data=\"omkar ,ds , cs\"\n",
    "data.split(',')#spits with seperator"
   ]
  },
  {
   "cell_type": "code",
   "execution_count": 50,
   "id": "2b118dc0-814d-4dba-b673-f15ff71e6114",
   "metadata": {},
   "outputs": [
    {
     "data": {
      "text/plain": [
       "'123, pune,\\nomkar,\\njoshi'"
      ]
     },
     "execution_count": 50,
     "metadata": {},
     "output_type": "execute_result"
    }
   ],
   "source": [
    "##escape sequence\n",
    "addr=\"\"\"123, pune,\n",
    "omkar,\n",
    "joshi\"\"\"\n",
    "addr"
   ]
  },
  {
   "cell_type": "code",
   "execution_count": 51,
   "id": "643ee951-0af1-4ae1-8dfa-ddbd69ea7b3b",
   "metadata": {},
   "outputs": [
    {
     "name": "stdout",
     "output_type": "stream",
     "text": [
      "123, pune,\n",
      "omkar,\n",
      "joshi\n"
     ]
    }
   ],
   "source": [
    "print(addr)\n"
   ]
  },
  {
   "cell_type": "code",
   "execution_count": 54,
   "id": "b222aba1-1418-453b-a83e-a78e19d22f98",
   "metadata": {},
   "outputs": [
    {
     "name": "stdout",
     "output_type": "stream",
     "text": [
      "123, pune,\n",
      "omkar,\n",
      "joshi\n",
      "\n"
     ]
    }
   ],
   "source": [
    "addrr=\"\"\"123, pune,\\nomkar,\\njoshi\\n\"\"\"\n",
    "print(addrr) #n to iincert new line"
   ]
  },
  {
   "cell_type": "code",
   "execution_count": 56,
   "id": "15bd7a1f-89a2-431e-99d8-0910058d1cc5",
   "metadata": {},
   "outputs": [
    {
     "name": "stdout",
     "output_type": "stream",
     "text": [
      "Name\tAge\taddr\n"
     ]
    }
   ],
   "source": [
    "#\\t escape character \\t= Tab\n",
    "txt=\"Name\\tAge\\taddr\"\n",
    "print(txt)"
   ]
  },
  {
   "cell_type": "code",
   "execution_count": 57,
   "id": "19acb7c7-7136-4ee1-abfd-a13721472ab9",
   "metadata": {},
   "outputs": [
    {
     "name": "stdout",
     "output_type": "stream",
     "text": [
      "Omkar Joshi here\n"
     ]
    }
   ],
   "source": [
    "print(\"hii there, \\rOmkar Joshi here\")\n",
    "#carriage return \\r >> moves cursor to beggining of line"
   ]
  },
  {
   "cell_type": "code",
   "execution_count": 58,
   "id": "ec19dd4a-8c56-4227-9c79-bea3328ade4f",
   "metadata": {},
   "outputs": [
    {
     "name": "stdout",
     "output_type": "stream",
     "text": [
      "hii there, My name is Omkar\n",
      "hii there, My name is Akshay\n",
      "hii there, My name is Aniket\n"
     ]
    }
   ],
   "source": [
    "#string fromatting >> creating string with place holder\n",
    "print(\"hii there, My name is Omkar\")\n",
    "print(\"hii there, My name is Akshay\")\n",
    "print(\"hii there, My name is Aniket\")\n"
   ]
  },
  {
   "cell_type": "code",
   "execution_count": 60,
   "id": "abf08415-f182-4408-bf3e-08dd059995a3",
   "metadata": {},
   "outputs": [
    {
     "name": "stdout",
     "output_type": "stream",
     "text": [
      "hii there, my name is anu\n"
     ]
    }
   ],
   "source": [
    "#recent uproach\n",
    "name1=\"anu\"\n",
    "txtt=f\"hii there, my name is {name1}\"\n",
    "print(txtt)"
   ]
  },
  {
   "cell_type": "code",
   "execution_count": 61,
   "id": "ce072b87-922a-4d9a-992e-7365c9580172",
   "metadata": {},
   "outputs": [
    {
     "name": "stdout",
     "output_type": "stream",
     "text": [
      "hello omkar, wish you a day\n"
     ]
    }
   ],
   "source": [
    "name2=\"omkar\"\n",
    "greetings=\"hello %s, wish you a day\"%name2\n",
    "print(greetings)"
   ]
  },
  {
   "cell_type": "code",
   "execution_count": 62,
   "id": "d1d92ba1-f3dc-4e34-8169-f1376138b3fc",
   "metadata": {},
   "outputs": [
    {
     "name": "stdout",
     "output_type": "stream",
     "text": [
      "hello,omkar welcome to ds \n"
     ]
    }
   ],
   "source": [
    "#.format\n",
    "template=\"hello,{} welcome to {} \"\n",
    "msg=template.format(\"omkar\",\"ds\")\n",
    "print(msg)"
   ]
  },
  {
   "cell_type": "code",
   "execution_count": null,
   "id": "98245d7b-2102-4162-a548-40033f8198a0",
   "metadata": {},
   "outputs": [],
   "source": []
  }
 ],
 "metadata": {
  "kernelspec": {
   "display_name": "Python 3 (ipykernel)",
   "language": "python",
   "name": "python3"
  },
  "language_info": {
   "codemirror_mode": {
    "name": "ipython",
    "version": 3
   },
   "file_extension": ".py",
   "mimetype": "text/x-python",
   "name": "python",
   "nbconvert_exporter": "python",
   "pygments_lexer": "ipython3",
   "version": "3.10.8"
  }
 },
 "nbformat": 4,
 "nbformat_minor": 5
}
