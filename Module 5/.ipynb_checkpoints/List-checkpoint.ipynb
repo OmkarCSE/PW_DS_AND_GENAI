{
 "cells": [
  {
   "cell_type": "code",
   "execution_count": 1,
   "id": "f0577630-cada-4c98-9e8a-2c6c1fcfbe8c",
   "metadata": {},
   "outputs": [],
   "source": [
    "##list is collection of heterogenious items\n",
    "##mutable"
   ]
  },
  {
   "cell_type": "code",
   "execution_count": 2,
   "id": "2103dcdc-a868-4ad7-91cb-6c61461b63c7",
   "metadata": {},
   "outputs": [
    {
     "data": {
      "text/plain": [
       "list"
      ]
     },
     "execution_count": 2,
     "metadata": {},
     "output_type": "execute_result"
    }
   ],
   "source": [
    "type([])"
   ]
  },
  {
   "cell_type": "code",
   "execution_count": 3,
   "id": "5fe7724d-5dbb-42c8-bb0f-a8461f3dc358",
   "metadata": {},
   "outputs": [],
   "source": [
    "grocery=[\"milk\",\"orange\",1,2.2,True,3+6]"
   ]
  },
  {
   "cell_type": "code",
   "execution_count": 4,
   "id": "88a064fa-2dcc-4dac-b4ec-7cf2bace96af",
   "metadata": {},
   "outputs": [
    {
     "data": {
      "text/plain": [
       "['orange', 1, 2.2, True, 9]"
      ]
     },
     "execution_count": 4,
     "metadata": {},
     "output_type": "execute_result"
    }
   ],
   "source": [
    "grocery[1:]"
   ]
  },
  {
   "cell_type": "code",
   "execution_count": 5,
   "id": "65b45560-580b-4acd-92fa-283150496a77",
   "metadata": {},
   "outputs": [
    {
     "data": {
      "text/plain": [
       "['orange', 1, 2.2]"
      ]
     },
     "execution_count": 5,
     "metadata": {},
     "output_type": "execute_result"
    }
   ],
   "source": [
    "grocery[1:4]"
   ]
  },
  {
   "cell_type": "code",
   "execution_count": 6,
   "id": "240f8397-a18d-41a6-86fb-186d0b3b0016",
   "metadata": {},
   "outputs": [
    {
     "data": {
      "text/plain": [
       "'index'"
      ]
     },
     "execution_count": 6,
     "metadata": {},
     "output_type": "execute_result"
    }
   ],
   "source": [
    "pages=[\"title\",\"ch1\",\"ch2\",\"conclusion\",\"index\"]\n",
    "pages[-1]"
   ]
  },
  {
   "cell_type": "code",
   "execution_count": 7,
   "id": "db4e269a-8b3d-4099-afc3-c6a535120b60",
   "metadata": {},
   "outputs": [
    {
     "data": {
      "text/plain": [
       "'conclusion'"
      ]
     },
     "execution_count": 7,
     "metadata": {},
     "output_type": "execute_result"
    }
   ],
   "source": [
    "pages[-2]"
   ]
  },
  {
   "cell_type": "code",
   "execution_count": 8,
   "id": "73c2a515-c4e3-4f3b-b283-c141d27b0df8",
   "metadata": {},
   "outputs": [
    {
     "data": {
      "text/plain": [
       "'anu'"
      ]
     },
     "execution_count": 8,
     "metadata": {},
     "output_type": "execute_result"
    }
   ],
   "source": [
    "queue=[\"sanjay\",\"ranjan\",\"bijay\",\"anu\"]\n",
    "queue[-1]"
   ]
  },
  {
   "cell_type": "code",
   "execution_count": 9,
   "id": "9a277a42-e2d2-4a49-a929-df6ca177daaa",
   "metadata": {},
   "outputs": [
    {
     "data": {
      "text/plain": [
       "'bijay'"
      ]
     },
     "execution_count": 9,
     "metadata": {},
     "output_type": "execute_result"
    }
   ],
   "source": [
    "queue[-2]"
   ]
  },
  {
   "cell_type": "code",
   "execution_count": 11,
   "id": "93c58fc0-85ed-4507-bc77-bfd9afc5f1c0",
   "metadata": {},
   "outputs": [],
   "source": [
    "lis=[\"apple\",\"orange\"]\n",
    "lis.append(\"banan\")"
   ]
  },
  {
   "cell_type": "code",
   "execution_count": 12,
   "id": "bbb656fb-2adc-41ad-872c-7bc178146f99",
   "metadata": {},
   "outputs": [
    {
     "data": {
      "text/plain": [
       "['apple', 'orange', 'banan']"
      ]
     },
     "execution_count": 12,
     "metadata": {},
     "output_type": "execute_result"
    }
   ],
   "source": [
    "lis"
   ]
  },
  {
   "cell_type": "code",
   "execution_count": 13,
   "id": "425e674f-2fcf-43da-bf32-e051a0f0634c",
   "metadata": {},
   "outputs": [],
   "source": [
    "playlist=[]\n",
    "playlist.append(\"love songs\")\n",
    "playlist.append(\"sad songs\")\n",
    "playlist.append(\"bollywood old songs\")"
   ]
  },
  {
   "cell_type": "code",
   "execution_count": 14,
   "id": "44896b0f-3e6d-4d35-b822-6d5ed651eab2",
   "metadata": {},
   "outputs": [
    {
     "data": {
      "text/plain": [
       "['love songs', 'sad songs', 'bollywood old songs']"
      ]
     },
     "execution_count": 14,
     "metadata": {},
     "output_type": "execute_result"
    }
   ],
   "source": [
    "playlist"
   ]
  },
  {
   "cell_type": "code",
   "execution_count": 15,
   "id": "952f7f40-806f-486a-b91d-6eca7461dc08",
   "metadata": {},
   "outputs": [
    {
     "data": {
      "text/plain": [
       "['apple', 'orange', 'banan']"
      ]
     },
     "execution_count": 15,
     "metadata": {},
     "output_type": "execute_result"
    }
   ],
   "source": [
    "lis"
   ]
  },
  {
   "cell_type": "code",
   "execution_count": 16,
   "id": "6145b201-9a7b-44f9-8682-e719c5fd84b8",
   "metadata": {},
   "outputs": [
    {
     "data": {
      "text/plain": [
       "'apple'"
      ]
     },
     "execution_count": 16,
     "metadata": {},
     "output_type": "execute_result"
    }
   ],
   "source": [
    "lis[0]\n"
   ]
  },
  {
   "cell_type": "code",
   "execution_count": 17,
   "id": "80a86096-5c81-4f59-9af5-d4502e462c4a",
   "metadata": {},
   "outputs": [],
   "source": [
    "lis[0]=\"mango\""
   ]
  },
  {
   "cell_type": "code",
   "execution_count": 18,
   "id": "58d43c08-7b5f-4825-a7ea-edbbedb9ed94",
   "metadata": {},
   "outputs": [
    {
     "data": {
      "text/plain": [
       "['mango', 'orange', 'banan']"
      ]
     },
     "execution_count": 18,
     "metadata": {},
     "output_type": "execute_result"
    }
   ],
   "source": [
    "lis\n"
   ]
  },
  {
   "cell_type": "code",
   "execution_count": 19,
   "id": "b39f88c0-cf6b-4105-a017-44f08b5d45b2",
   "metadata": {},
   "outputs": [],
   "source": [
    "lis.insert(2,\"grapes\")"
   ]
  },
  {
   "cell_type": "code",
   "execution_count": 20,
   "id": "ecad8a33-dfbf-4893-9fd2-269bf84fac2e",
   "metadata": {},
   "outputs": [
    {
     "data": {
      "text/plain": [
       "['mango', 'orange', 'grapes', 'banan']"
      ]
     },
     "execution_count": 20,
     "metadata": {},
     "output_type": "execute_result"
    }
   ],
   "source": [
    "lis\n"
   ]
  },
  {
   "cell_type": "code",
   "execution_count": 21,
   "id": "afdc55ea-4d32-4afc-962e-40dc4b008f32",
   "metadata": {},
   "outputs": [],
   "source": [
    "##etend>> used to append element from another list\n",
    "mylist=[\"a\",\"b\",\"c\"]\n",
    "brolist=[\"x\",1,1.2]\n",
    "brolist.extend(mylist)"
   ]
  },
  {
   "cell_type": "code",
   "execution_count": 22,
   "id": "61d2fc82-84b7-47d0-9004-3db689d732ee",
   "metadata": {},
   "outputs": [
    {
     "data": {
      "text/plain": [
       "['x', 1, 1.2, 'a', 'b', 'c']"
      ]
     },
     "execution_count": 22,
     "metadata": {},
     "output_type": "execute_result"
    }
   ],
   "source": [
    "brolist"
   ]
  },
  {
   "cell_type": "code",
   "execution_count": 23,
   "id": "2daeb5c7-45c5-42cd-8fd3-aaf1d6e1100a",
   "metadata": {},
   "outputs": [
    {
     "data": {
      "text/plain": [
       "['a', 'b', 'c']"
      ]
     },
     "execution_count": 23,
     "metadata": {},
     "output_type": "execute_result"
    }
   ],
   "source": [
    "mylist"
   ]
  },
  {
   "cell_type": "code",
   "execution_count": 25,
   "id": "85d2997c-367e-49bf-bdfb-5acab95002b2",
   "metadata": {},
   "outputs": [
    {
     "data": {
      "text/plain": [
       "['a', 'b', 'c', 'x', 1, 1.2, 'a', 'b', 'c']"
      ]
     },
     "execution_count": 25,
     "metadata": {},
     "output_type": "execute_result"
    }
   ],
   "source": [
    "##concatinate\n",
    "mylist1=[\"a\",\"b\",\"c\"]\n",
    "brolist2=[\"x\",1,1.2]\n",
    "mylist+brolist#will create new list"
   ]
  },
  {
   "cell_type": "code",
   "execution_count": 26,
   "id": "fe875785-0002-4d74-bf78-f8caeb8c7776",
   "metadata": {},
   "outputs": [
    {
     "data": {
      "text/plain": [
       "'####################'"
      ]
     },
     "execution_count": 26,
     "metadata": {},
     "output_type": "execute_result"
    }
   ],
   "source": [
    "#repetation operations\n",
    "\"#\"*20"
   ]
  },
  {
   "cell_type": "code",
   "execution_count": 27,
   "id": "53f4fda0-8dd0-4e3b-91c4-b4d24d9b4f9e",
   "metadata": {},
   "outputs": [
    {
     "data": {
      "text/plain": [
       "'--------------------'"
      ]
     },
     "execution_count": 27,
     "metadata": {},
     "output_type": "execute_result"
    }
   ],
   "source": [
    "\"-\"*20\n"
   ]
  },
  {
   "cell_type": "code",
   "execution_count": 28,
   "id": "714175f7-a801-4410-8dd1-a2cde134d13b",
   "metadata": {},
   "outputs": [
    {
     "data": {
      "text/plain": [
       "[0, 0, 0, 0, 0, 0, 0, 0, 0, 0]"
      ]
     },
     "execution_count": 28,
     "metadata": {},
     "output_type": "execute_result"
    }
   ],
   "source": [
    "[0]*10\n"
   ]
  },
  {
   "cell_type": "code",
   "execution_count": 29,
   "id": "c5329928-6a0b-48ce-9543-a6dc312d4802",
   "metadata": {},
   "outputs": [
    {
     "data": {
      "text/plain": [
       "[1,\n",
       " 2,\n",
       " 3,\n",
       " 1,\n",
       " 2,\n",
       " 3,\n",
       " 1,\n",
       " 2,\n",
       " 3,\n",
       " 1,\n",
       " 2,\n",
       " 3,\n",
       " 1,\n",
       " 2,\n",
       " 3,\n",
       " 1,\n",
       " 2,\n",
       " 3,\n",
       " 1,\n",
       " 2,\n",
       " 3,\n",
       " 1,\n",
       " 2,\n",
       " 3,\n",
       " 1,\n",
       " 2,\n",
       " 3,\n",
       " 1,\n",
       " 2,\n",
       " 3,\n",
       " 1,\n",
       " 2,\n",
       " 3,\n",
       " 1,\n",
       " 2,\n",
       " 3,\n",
       " 1,\n",
       " 2,\n",
       " 3,\n",
       " 1,\n",
       " 2,\n",
       " 3,\n",
       " 1,\n",
       " 2,\n",
       " 3]"
      ]
     },
     "execution_count": 29,
     "metadata": {},
     "output_type": "execute_result"
    }
   ],
   "source": [
    "[1,2,3]*15"
   ]
  },
  {
   "cell_type": "code",
   "execution_count": 34,
   "id": "6810f54d-733a-4132-8fdd-f893b39fe019",
   "metadata": {},
   "outputs": [
    {
     "data": {
      "text/plain": [
       "[0,\n",
       " 1,\n",
       " 2,\n",
       " 3,\n",
       " 4,\n",
       " 0,\n",
       " 1,\n",
       " 2,\n",
       " 3,\n",
       " 4,\n",
       " 0,\n",
       " 1,\n",
       " 2,\n",
       " 3,\n",
       " 4,\n",
       " 0,\n",
       " 1,\n",
       " 2,\n",
       " 3,\n",
       " 4,\n",
       " 0,\n",
       " 1,\n",
       " 2,\n",
       " 3,\n",
       " 4,\n",
       " 0,\n",
       " 1,\n",
       " 2,\n",
       " 3,\n",
       " 4]"
      ]
     },
     "execution_count": 34,
     "metadata": {},
     "output_type": "execute_result"
    }
   ],
   "source": [
    "list(range(5))*6"
   ]
  },
  {
   "cell_type": "code",
   "execution_count": 39,
   "id": "b950640b-45b5-47fc-9430-96caf1f340bf",
   "metadata": {},
   "outputs": [
    {
     "name": "stdout",
     "output_type": "stream",
     "text": [
      "hii \n",
      "hii \n",
      "hii \n",
      "hii \n",
      "hii \n",
      "hii \n",
      "hii \n",
      "hii \n",
      "\n"
     ]
    }
   ],
   "source": [
    "txt=\"hii \\n\"\n",
    "print(txt*8)"
   ]
  },
  {
   "cell_type": "code",
   "execution_count": 40,
   "id": "2375db18-da73-4e18-aac6-57dcbbd260d7",
   "metadata": {},
   "outputs": [
    {
     "data": {
      "text/plain": [
       "['a', 'b', 'c']"
      ]
     },
     "execution_count": 40,
     "metadata": {},
     "output_type": "execute_result"
    }
   ],
   "source": [
    "##memebers in ,not in\n",
    "mylist1"
   ]
  },
  {
   "cell_type": "code",
   "execution_count": 41,
   "id": "c5caed0e-fd1e-4c3d-bf57-6a0fa98e319c",
   "metadata": {},
   "outputs": [
    {
     "data": {
      "text/plain": [
       "True"
      ]
     },
     "execution_count": 41,
     "metadata": {},
     "output_type": "execute_result"
    }
   ],
   "source": [
    "\"a\" in mylist1"
   ]
  },
  {
   "cell_type": "code",
   "execution_count": 42,
   "id": "45148f54-4517-432d-8fa8-7cb58bb8ce3e",
   "metadata": {},
   "outputs": [
    {
     "data": {
      "text/plain": [
       "False"
      ]
     },
     "execution_count": 42,
     "metadata": {},
     "output_type": "execute_result"
    }
   ],
   "source": [
    "\"d\" in mylist1"
   ]
  },
  {
   "cell_type": "code",
   "execution_count": 43,
   "id": "4825ad31-cd22-4d0a-8758-35d46da9f50b",
   "metadata": {},
   "outputs": [],
   "source": [
    "##deep copy and shallow copy\n",
    "##shallow copy:##points to same memory location if we do change in one \n",
    "##it also be changed for others\n",
    "\n"
   ]
  },
  {
   "cell_type": "code",
   "execution_count": 45,
   "id": "3cf44d43-dfbe-4756-954a-111e0cadd6fe",
   "metadata": {},
   "outputs": [
    {
     "data": {
      "text/plain": [
       "['milk', 'orange', 1, 2.2, True, 9]"
      ]
     },
     "execution_count": 45,
     "metadata": {},
     "output_type": "execute_result"
    }
   ],
   "source": [
    "grocery"
   ]
  },
  {
   "cell_type": "code",
   "execution_count": 46,
   "id": "3de7eb2c-5ede-45cf-9f83-c92c710984cd",
   "metadata": {},
   "outputs": [],
   "source": [
    "a=grocery"
   ]
  },
  {
   "cell_type": "code",
   "execution_count": 47,
   "id": "96c06eb0-84b7-4fa5-8153-b8723e8103d5",
   "metadata": {},
   "outputs": [
    {
     "data": {
      "text/plain": [
       "['milk', 'orange', 1, 2.2, True, 9]"
      ]
     },
     "execution_count": 47,
     "metadata": {},
     "output_type": "execute_result"
    }
   ],
   "source": [
    "a"
   ]
  },
  {
   "cell_type": "code",
   "execution_count": 50,
   "id": "ea131756-4cdf-43f4-b11d-907d674305d0",
   "metadata": {},
   "outputs": [],
   "source": [
    "a[0]=\"potato\""
   ]
  },
  {
   "cell_type": "code",
   "execution_count": 51,
   "id": "036b1e5f-1ba2-4c6b-8de6-a2d3f6fce9a4",
   "metadata": {},
   "outputs": [
    {
     "data": {
      "text/plain": [
       "['potato', 'orange', 1, 2.2, True, 9]"
      ]
     },
     "execution_count": 51,
     "metadata": {},
     "output_type": "execute_result"
    }
   ],
   "source": [
    "a"
   ]
  },
  {
   "cell_type": "code",
   "execution_count": 52,
   "id": "d3f68d35-1f80-435d-8553-32127c9fa112",
   "metadata": {},
   "outputs": [
    {
     "data": {
      "text/plain": [
       "['potato', 'orange', 1, 2.2, True, 9]"
      ]
     },
     "execution_count": 52,
     "metadata": {},
     "output_type": "execute_result"
    }
   ],
   "source": [
    "grocery"
   ]
  },
  {
   "cell_type": "code",
   "execution_count": 53,
   "id": "6d7d4c35-d939-4f35-b9a7-cebb77e22475",
   "metadata": {},
   "outputs": [],
   "source": [
    "##deep copy>> will not change the value in another list"
   ]
  },
  {
   "cell_type": "code",
   "execution_count": 54,
   "id": "614957e2-78ae-4662-ab2d-a5cf0a4d270a",
   "metadata": {},
   "outputs": [
    {
     "data": {
      "text/plain": [
       "['potato', 'orange', 1, 2.2, True, 9]"
      ]
     },
     "execution_count": 54,
     "metadata": {},
     "output_type": "execute_result"
    }
   ],
   "source": [
    "grocery"
   ]
  },
  {
   "cell_type": "code",
   "execution_count": 55,
   "id": "2fe6437a-c3ec-4e78-bad5-24fd91bb1fe1",
   "metadata": {},
   "outputs": [],
   "source": [
    "b=grocery.copy()## it will create another memory block"
   ]
  },
  {
   "cell_type": "code",
   "execution_count": 56,
   "id": "d64feaae-2bd4-4200-9c4f-5da3cf1d7b1d",
   "metadata": {},
   "outputs": [
    {
     "data": {
      "text/plain": [
       "['potato', 'orange', 1, 2.2, True, 9]"
      ]
     },
     "execution_count": 56,
     "metadata": {},
     "output_type": "execute_result"
    }
   ],
   "source": [
    "b\n"
   ]
  },
  {
   "cell_type": "code",
   "execution_count": 57,
   "id": "0c3309af-0363-4603-a34a-167f35dacebd",
   "metadata": {},
   "outputs": [
    {
     "data": {
      "text/plain": [
       "['potato', 'orange', 1, 2.2, True, 9]"
      ]
     },
     "execution_count": 57,
     "metadata": {},
     "output_type": "execute_result"
    }
   ],
   "source": [
    "grocery\n"
   ]
  },
  {
   "cell_type": "code",
   "execution_count": 58,
   "id": "e3a6f669-94aa-4fd5-be78-bd2bb243e2b7",
   "metadata": {},
   "outputs": [],
   "source": [
    "b[0]=\"banana\""
   ]
  },
  {
   "cell_type": "code",
   "execution_count": 59,
   "id": "b88d198d-8b1a-4e38-a96e-5853060a1343",
   "metadata": {},
   "outputs": [
    {
     "data": {
      "text/plain": [
       "['banana', 'orange', 1, 2.2, True, 9]"
      ]
     },
     "execution_count": 59,
     "metadata": {},
     "output_type": "execute_result"
    }
   ],
   "source": [
    "b\n"
   ]
  },
  {
   "cell_type": "code",
   "execution_count": 60,
   "id": "bf394ee5-61a6-4474-a65e-821aeb1a24e7",
   "metadata": {},
   "outputs": [
    {
     "data": {
      "text/plain": [
       "['potato', 'orange', 1, 2.2, True, 9]"
      ]
     },
     "execution_count": 60,
     "metadata": {},
     "output_type": "execute_result"
    }
   ],
   "source": [
    "grocery"
   ]
  },
  {
   "cell_type": "code",
   "execution_count": 61,
   "id": "8b7359e8-93ba-40ae-a2e2-0a220e821cb8",
   "metadata": {},
   "outputs": [],
   "source": [
    "#sorting of list"
   ]
  },
  {
   "cell_type": "code",
   "execution_count": 64,
   "id": "bfdd50ce-fd67-47cf-bf32-552ade8ea292",
   "metadata": {},
   "outputs": [
    {
     "data": {
      "text/plain": [
       "['a', 'b', 'd', 'd', 'z']"
      ]
     },
     "execution_count": 64,
     "metadata": {},
     "output_type": "execute_result"
    }
   ],
   "source": [
    "booklist=[\"b\",\"d\",\"a\",\"z\",\"d\"]\n",
    "sorted(booklist)"
   ]
  },
  {
   "cell_type": "code",
   "execution_count": 65,
   "id": "571683c1-1ee8-44cd-ba43-37aed875a5e0",
   "metadata": {},
   "outputs": [
    {
     "data": {
      "text/plain": [
       "1"
      ]
     },
     "execution_count": 65,
     "metadata": {},
     "output_type": "execute_result"
    }
   ],
   "source": [
    "booklist.index(\"d\")##returns index of first occurence"
   ]
  },
  {
   "cell_type": "code",
   "execution_count": 66,
   "id": "ccfe5b99-4ebb-40ee-b742-9689f6cfbf52",
   "metadata": {},
   "outputs": [
    {
     "data": {
      "text/plain": [
       "5"
      ]
     },
     "execution_count": 66,
     "metadata": {},
     "output_type": "execute_result"
    }
   ],
   "source": [
    "len(booklist)"
   ]
  },
  {
   "cell_type": "code",
   "execution_count": 67,
   "id": "d5193c69-a366-4019-92dc-723064ec942c",
   "metadata": {},
   "outputs": [
    {
     "data": {
      "text/plain": [
       "2"
      ]
     },
     "execution_count": 67,
     "metadata": {},
     "output_type": "execute_result"
    }
   ],
   "source": [
    "booklist.count(\"d\")"
   ]
  },
  {
   "cell_type": "code",
   "execution_count": 68,
   "id": "a8769470-26e7-4339-a12f-f3219f381058",
   "metadata": {},
   "outputs": [],
   "source": [
    "booklist.remove(\"a\")"
   ]
  },
  {
   "cell_type": "code",
   "execution_count": 70,
   "id": "cfaf6b24-a4a3-4222-aad2-c029db4b12de",
   "metadata": {},
   "outputs": [
    {
     "data": {
      "text/plain": [
       "['b', 'd', 'z', 'd']"
      ]
     },
     "execution_count": 70,
     "metadata": {},
     "output_type": "execute_result"
    }
   ],
   "source": [
    "booklist"
   ]
  },
  {
   "cell_type": "code",
   "execution_count": 71,
   "id": "99ad6634-c0d5-46a0-b2f8-121dd2fc717c",
   "metadata": {},
   "outputs": [],
   "source": [
    "del booklist"
   ]
  },
  {
   "cell_type": "code",
   "execution_count": 72,
   "id": "a6c0556b-8adb-4b14-81c3-9103b229f906",
   "metadata": {},
   "outputs": [
    {
     "ename": "NameError",
     "evalue": "name 'booklist' is not defined",
     "output_type": "error",
     "traceback": [
      "\u001b[0;31m---------------------------------------------------------------------------\u001b[0m",
      "\u001b[0;31mNameError\u001b[0m                                 Traceback (most recent call last)",
      "Cell \u001b[0;32mIn[72], line 1\u001b[0m\n\u001b[0;32m----> 1\u001b[0m \u001b[43mbooklist\u001b[49m\n",
      "\u001b[0;31mNameError\u001b[0m: name 'booklist' is not defined"
     ]
    }
   ],
   "source": [
    "booklist"
   ]
  },
  {
   "cell_type": "code",
   "execution_count": 73,
   "id": "445a63fc-5a67-4e25-8d5b-0ddc7ba31a3f",
   "metadata": {},
   "outputs": [],
   "source": [
    "booklist=[\"b\",\"d\",\"a\",\"z\",\"d\"]"
   ]
  },
  {
   "cell_type": "code",
   "execution_count": 76,
   "id": "8213d82e-e158-44a5-877f-c0b6f2d54158",
   "metadata": {},
   "outputs": [],
   "source": [
    "booklist.clear()#it deletes the items from list but not the list"
   ]
  },
  {
   "cell_type": "code",
   "execution_count": 77,
   "id": "7276243e-0429-4b53-90f3-a2a5df61916d",
   "metadata": {},
   "outputs": [
    {
     "data": {
      "text/plain": [
       "[]"
      ]
     },
     "execution_count": 77,
     "metadata": {},
     "output_type": "execute_result"
    }
   ],
   "source": [
    "booklist"
   ]
  },
  {
   "cell_type": "code",
   "execution_count": 80,
   "id": "185a0ffa-f625-454c-bda7-ef150926c750",
   "metadata": {},
   "outputs": [
    {
     "data": {
      "text/plain": [
       "'d'"
      ]
     },
     "execution_count": 80,
     "metadata": {},
     "output_type": "execute_result"
    }
   ],
   "source": [
    "booklist=[\"b\",\"d\",\"a\",\"z\",\"d\"]\n",
    "booklist.pop()#removes last element by deafult"
   ]
  },
  {
   "cell_type": "code",
   "execution_count": 81,
   "id": "1b39b06e-3f49-457f-8940-cd4e9a919810",
   "metadata": {},
   "outputs": [
    {
     "data": {
      "text/plain": [
       "'a'"
      ]
     },
     "execution_count": 81,
     "metadata": {},
     "output_type": "execute_result"
    }
   ],
   "source": [
    "booklist.pop(2)"
   ]
  },
  {
   "cell_type": "code",
   "execution_count": 82,
   "id": "cd6978d4-749f-48be-97f2-ba2fc851bb1e",
   "metadata": {},
   "outputs": [],
   "source": [
    "##list comprehension>>consize code\n",
    "prices=[10,20,30,40,50]\n",
    "doubled_prices=[]\n",
    "for i in prices:\n",
    "    doubled_prices.append(1*2)"
   ]
  },
  {
   "cell_type": "code",
   "execution_count": 83,
   "id": "3f5d02ff-0ed1-4e58-a8a6-c76ef43a75bd",
   "metadata": {},
   "outputs": [
    {
     "data": {
      "text/plain": [
       "[2, 2, 2, 2, 2]"
      ]
     },
     "execution_count": 83,
     "metadata": {},
     "output_type": "execute_result"
    }
   ],
   "source": [
    "doubled_prices"
   ]
  },
  {
   "cell_type": "code",
   "execution_count": 84,
   "id": "8d7b4f59-6586-42b9-a41f-0a4e857ac3ba",
   "metadata": {},
   "outputs": [
    {
     "data": {
      "text/plain": [
       "[20, 40, 60, 80, 100]"
      ]
     },
     "execution_count": 84,
     "metadata": {},
     "output_type": "execute_result"
    }
   ],
   "source": [
    "[price*2 for price in prices]"
   ]
  },
  {
   "cell_type": "code",
   "execution_count": 85,
   "id": "e13ad01d-39dd-42c7-aa99-2b58618cc8b5",
   "metadata": {},
   "outputs": [
    {
     "data": {
      "text/plain": [
       "['Om', 'Anu', 'Sonu']"
      ]
     },
     "execution_count": 85,
     "metadata": {},
     "output_type": "execute_result"
    }
   ],
   "source": [
    "names=[\"om\",\"anu\",\"sonu\"]\n",
    "[name.capitalize() for name in names]"
   ]
  },
  {
   "cell_type": "code",
   "execution_count": 87,
   "id": "4f65c092-7fe9-4932-991c-984a712f8e01",
   "metadata": {},
   "outputs": [
    {
     "data": {
      "text/plain": [
       "[1, 4, 9, 16, 25]"
      ]
     },
     "execution_count": 87,
     "metadata": {},
     "output_type": "execute_result"
    }
   ],
   "source": [
    "numbers=[1,2,3,4,5]\n",
    "[n**2 for n in numbers]"
   ]
  },
  {
   "cell_type": "code",
   "execution_count": 89,
   "id": "4071e276-0189-422a-bc50-c6eec7db38aa",
   "metadata": {},
   "outputs": [
    {
     "data": {
      "text/plain": [
       "['pdf', 'py', 'jpg']"
      ]
     },
     "execution_count": 89,
     "metadata": {},
     "output_type": "execute_result"
    }
   ],
   "source": [
    "files=[\"a.pdf\",\"p.py\",\"c.jpg\"]\n",
    "[file.split(\".\")[-1] for file in files]"
   ]
  },
  {
   "cell_type": "code",
   "execution_count": 91,
   "id": "f0e3bab5-1c15-4bbc-8cfd-1082ef85968c",
   "metadata": {},
   "outputs": [
    {
     "data": {
      "text/plain": [
       "['omkar@mymail.com']"
      ]
     },
     "execution_count": 91,
     "metadata": {},
     "output_type": "execute_result"
    }
   ],
   "source": [
    "#conditional list comprehansion\n",
    "emailsadd=[\"xyz@gmail.com\",\"myname@gmail.com\",\"omkar@mymail.com\",\"aniket@yahoo.com\"]\n",
    "[email for email in emailsadd if email.endswith(\"@mymail.com\")]"
   ]
  },
  {
   "cell_type": "code",
   "execution_count": 94,
   "id": "2b1dd154-c70f-49ed-81d0-e9e72b8a8aa0",
   "metadata": {},
   "outputs": [
    {
     "data": {
      "text/plain": [
       "[[1, 5], [1, 6], [1, 7], [2, 5], [2, 6], [2, 7], [3, 5], [3, 6], [3, 7]]"
      ]
     },
     "execution_count": 94,
     "metadata": {},
     "output_type": "execute_result"
    }
   ],
   "source": [
    "pairs=[]\n",
    "for x in [1,2,3]:\n",
    "    for y in [5,6,7]:\n",
    "        pairs.append([x,y])\n",
    "pairs"
   ]
  },
  {
   "cell_type": "code",
   "execution_count": 95,
   "id": "2b09e887-88cb-4eb8-a593-2d45c5fad5d2",
   "metadata": {},
   "outputs": [
    {
     "data": {
      "text/plain": [
       "[[1, 5], [1, 6], [1, 7], [2, 5], [2, 6], [2, 7], [3, 5], [3, 6], [3, 7]]"
      ]
     },
     "execution_count": 95,
     "metadata": {},
     "output_type": "execute_result"
    }
   ],
   "source": [
    "[[x,y] for x in [1,2,3] for y in [5,6,7]]"
   ]
  },
  {
   "cell_type": "code",
   "execution_count": 96,
   "id": "98e40210-6c45-4d0e-80f1-9ae409091b1f",
   "metadata": {},
   "outputs": [],
   "source": [
    "#list as stack and queue (optional) another perspective"
   ]
  },
  {
   "cell_type": "code",
   "execution_count": 98,
   "id": "2d549732-7d4d-43c8-81b8-255284b08d0c",
   "metadata": {},
   "outputs": [],
   "source": [
    "##stack >>LIFO;;last in first out"
   ]
  },
  {
   "attachments": {
    "d71bd3a7-7f48-4ff2-957e-657b383ae966.png": {
     "image/png": "[encoded data removed]"
    }
   },
   "cell_type": "markdown",
   "id": "6adf7e4d-0b33-4828-b341-63683a1eacac",
   "metadata": {},
   "source": [
    "![stack-data-structure.png](attachment:d71bd3a7-7f48-4ff2-957e-657b383ae966.png)"
   ]
  },
  {
   "cell_type": "code",
   "execution_count": 100,
   "id": "106786b5-4c4f-44bc-bcd9-1b067539eccc",
   "metadata": {},
   "outputs": [
    {
     "data": {
      "text/plain": [
       "['1', '2', '3', '4']"
      ]
     },
     "execution_count": 100,
     "metadata": {},
     "output_type": "execute_result"
    }
   ],
   "source": [
    "stack_of_plates=[]\n",
    "stack_of_plates.append(\"1\")\n",
    "stack_of_plates.append(\"2\")\n",
    "stack_of_plates.append(\"3\")\n",
    "stack_of_plates.append(\"4\")\n",
    "stack_of_plates"
   ]
  },
  {
   "cell_type": "code",
   "execution_count": 101,
   "id": "1be9a259-07e9-40d1-9cf7-b018b58919c5",
   "metadata": {},
   "outputs": [
    {
     "data": {
      "text/plain": [
       "'4'"
      ]
     },
     "execution_count": 101,
     "metadata": {},
     "output_type": "execute_result"
    }
   ],
   "source": [
    "stack_of_plates.pop()"
   ]
  },
  {
   "cell_type": "code",
   "execution_count": 102,
   "id": "63511a71-3be7-4b5c-9fd6-c8732b988438",
   "metadata": {},
   "outputs": [
    {
     "data": {
      "text/plain": [
       "['1', '2', '3']"
      ]
     },
     "execution_count": 102,
     "metadata": {},
     "output_type": "execute_result"
    }
   ],
   "source": [
    "stack_of_plates"
   ]
  },
  {
   "cell_type": "code",
   "execution_count": 103,
   "id": "d48bc7c9-0b3f-4127-9e8a-8a979defb8dd",
   "metadata": {},
   "outputs": [],
   "source": [
    "##queue>>FIFO;; first in first out"
   ]
  },
  {
   "attachments": {
    "71a7a312-d5ed-41b8-bc14-f2a0fbe0cdf7.jpg": {
     "image/jpeg": "[encoded data removed]"
    }
   },
   "cell_type": "markdown",
   "id": "1c94ce9c-8a6f-43d8-afdc-3ae2aee6c92b",
   "metadata": {},
   "source": [
    "![th.jpg](attachment:71a7a312-d5ed-41b8-bc14-f2a0fbe0cdf7.jpg)"
   ]
  },
  {
   "cell_type": "code",
   "execution_count": 105,
   "id": "9181d227-de4d-4dea-aea2-dfd20688e583",
   "metadata": {},
   "outputs": [],
   "source": [
    "##library>>collection of multiple python scripts(module)\n",
    "##very usefull in reuse of code"
   ]
  },
  {
   "cell_type": "code",
   "execution_count": 110,
   "id": "9dcc86ee-aeee-4a7c-9dee-45ef9db9bb91",
   "metadata": {},
   "outputs": [],
   "source": [
    "from collections import deque \n",
    "##collections is lib and deque is module"
   ]
  },
  {
   "cell_type": "code",
   "execution_count": 111,
   "id": "3d1dff29-7951-4636-a126-07e3276516e7",
   "metadata": {},
   "outputs": [
    {
     "data": {
      "text/plain": [
       "deque(['cust1', 'cust2', 'cust3', 'cust4'])"
      ]
     },
     "execution_count": 111,
     "metadata": {},
     "output_type": "execute_result"
    }
   ],
   "source": [
    "checkout=deque()\n",
    "checkout.append(\"cust1\")\n",
    "checkout.append(\"cust2\")\n",
    "checkout.append(\"cust3\")\n",
    "checkout.append(\"cust4\")\n",
    "checkout"
   ]
  },
  {
   "cell_type": "code",
   "execution_count": 112,
   "id": "26c03e1c-e6e5-4764-8096-3133721b86cf",
   "metadata": {},
   "outputs": [
    {
     "name": "stdout",
     "output_type": "stream",
     "text": [
      "serving cust1\n",
      "serving cust2\n",
      "serving cust3\n",
      "serving cust4\n"
     ]
    }
   ],
   "source": [
    "while checkout:\n",
    "    customer=checkout.popleft()\n",
    "    print(\"serving\",customer)"
   ]
  },
  {
   "cell_type": "code",
   "execution_count": 118,
   "id": "b0463fab-93c6-408e-b0a2-8280b096110a",
   "metadata": {},
   "outputs": [
    {
     "name": "stdout",
     "output_type": "stream",
     "text": [
      "printing print first pdf\n",
      "printing print second pdf\n",
      "printing print third pdf\n"
     ]
    }
   ],
   "source": [
    "from queue import Queue\n",
    "printq=Queue()\n",
    "printq.put(\"print first pdf\")\n",
    "printq.put(\"print second pdf\")\n",
    "printq.put(\"print third pdf\")\n",
    "\n",
    "while not printq.empty():\n",
    "    printjobb=printq.get()\n",
    "    print(\"printing\", printjobb)"
   ]
  },
  {
   "cell_type": "code",
   "execution_count": null,
   "id": "99f822e2-f7db-484d-a561-755f37f8dbae",
   "metadata": {},
   "outputs": [],
   "source": []
  }
 ],
 "metadata": {
  "kernelspec": {
   "display_name": "Python 3 (ipykernel)",
   "language": "python",
   "name": "python3"
  },
  "language_info": {
   "codemirror_mode": {
    "name": "ipython",
    "version": 3
   },
   "file_extension": ".py",
   "mimetype": "text/x-python",
   "name": "python",
   "nbconvert_exporter": "python",
   "pygments_lexer": "ipython3",
   "version": "3.10.8"
  }
 },
 "nbformat": 4,
 "nbformat_minor": 5
}
