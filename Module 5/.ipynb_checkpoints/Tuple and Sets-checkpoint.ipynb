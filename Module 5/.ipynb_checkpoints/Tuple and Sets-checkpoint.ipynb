{
 "cells": [
  {
   "cell_type": "code",
   "execution_count": null,
   "id": "ab1f8739-55ba-4ba5-b67b-2def5102ae01",
   "metadata": {},
   "outputs": [],
   "source": [
    "##tuples are orderd collections of heterogenous elements and they are immutable"
   ]
  },
  {
   "cell_type": "code",
   "execution_count": 1,
   "id": "a33b65e0-cd50-4ff2-bec3-262defa69c30",
   "metadata": {},
   "outputs": [
    {
     "data": {
      "text/plain": [
       "tuple"
      ]
     },
     "execution_count": 1,
     "metadata": {},
     "output_type": "execute_result"
    }
   ],
   "source": [
    "t=()\n",
    "type(t)"
   ]
  },
  {
   "cell_type": "code",
   "execution_count": 2,
   "id": "87c5eb45-4ffa-4c0d-803b-3f10cf93d2b2",
   "metadata": {},
   "outputs": [],
   "source": [
    "t=(\"omkar\",\"pw\",2,5.6,True,5+8j)"
   ]
  },
  {
   "cell_type": "code",
   "execution_count": 3,
   "id": "280c0436-a91f-4634-8768-71c29bab3f62",
   "metadata": {},
   "outputs": [
    {
     "data": {
      "text/plain": [
       "tuple"
      ]
     },
     "execution_count": 3,
     "metadata": {},
     "output_type": "execute_result"
    }
   ],
   "source": [
    "type(t)"
   ]
  },
  {
   "cell_type": "code",
   "execution_count": 4,
   "id": "7f0a4630-660f-412b-b589-72f9a7d7eeb5",
   "metadata": {},
   "outputs": [
    {
     "data": {
      "text/plain": [
       "5.6"
      ]
     },
     "execution_count": 4,
     "metadata": {},
     "output_type": "execute_result"
    }
   ],
   "source": [
    "t[3]"
   ]
  },
  {
   "cell_type": "code",
   "execution_count": 5,
   "id": "62a36b42-8bee-4b9f-ad95-112efdc1edf9",
   "metadata": {},
   "outputs": [
    {
     "data": {
      "text/plain": [
       "'omkar'"
      ]
     },
     "execution_count": 5,
     "metadata": {},
     "output_type": "execute_result"
    }
   ],
   "source": [
    "##tuples are immutable\n",
    "t[0]"
   ]
  },
  {
   "cell_type": "code",
   "execution_count": 6,
   "id": "8da9b9eb-3bd0-4ec3-bc7c-86955b4a78a7",
   "metadata": {},
   "outputs": [
    {
     "ename": "TypeError",
     "evalue": "'tuple' object does not support item assignment",
     "output_type": "error",
     "traceback": [
      "\u001b[0;31m---------------------------------------------------------------------------\u001b[0m",
      "\u001b[0;31mTypeError\u001b[0m                                 Traceback (most recent call last)",
      "Cell \u001b[0;32mIn[6], line 2\u001b[0m\n\u001b[1;32m      1\u001b[0m empid\u001b[38;5;241m=\u001b[39m(\u001b[38;5;241m1\u001b[39m,\u001b[38;5;241m2\u001b[39m,\u001b[38;5;241m3\u001b[39m,\u001b[38;5;241m4\u001b[39m)\n\u001b[0;32m----> 2\u001b[0m \u001b[43mempid\u001b[49m\u001b[43m[\u001b[49m\u001b[38;5;241;43m0\u001b[39;49m\u001b[43m]\u001b[49m\u001b[38;5;241m=\u001b[39m\u001b[38;5;241m22\u001b[39m\n",
      "\u001b[0;31mTypeError\u001b[0m: 'tuple' object does not support item assignment"
     ]
    }
   ],
   "source": [
    "empid=(1,2,3,4)\n",
    "empid[0]=22"
   ]
  },
  {
   "cell_type": "code",
   "execution_count": 7,
   "id": "a5877a96-aed0-4c14-a25e-1492143b8409",
   "metadata": {},
   "outputs": [
    {
     "name": "stdout",
     "output_type": "stream",
     "text": [
      "('omkar', 'pw', 2, 5.6, True, (5+8j))\n"
     ]
    }
   ],
   "source": [
    "print(t)"
   ]
  },
  {
   "cell_type": "code",
   "execution_count": 9,
   "id": "d72cc7ed-5ad6-4343-aab3-3b4fb54d1364",
   "metadata": {},
   "outputs": [
    {
     "data": {
      "text/plain": [
       "1"
      ]
     },
     "execution_count": 9,
     "metadata": {},
     "output_type": "execute_result"
    }
   ],
   "source": [
    "t.count('omkar')"
   ]
  },
  {
   "cell_type": "code",
   "execution_count": 11,
   "id": "549cda43-a1ed-4474-a0b5-1be0de52804d",
   "metadata": {},
   "outputs": [
    {
     "data": {
      "text/plain": [
       "2"
      ]
     },
     "execution_count": 11,
     "metadata": {},
     "output_type": "execute_result"
    }
   ],
   "source": [
    "t.index(2)"
   ]
  },
  {
   "cell_type": "code",
   "execution_count": 12,
   "id": "248b8bc8-b9f4-4197-a112-bf91ed1cebc0",
   "metadata": {},
   "outputs": [
    {
     "name": "stdout",
     "output_type": "stream",
     "text": [
      "('omkar', 'pw', 2, 5.6, True, (5+8j), 'omkar', 'pw', 2, 5.6, True, (5+8j))\n"
     ]
    }
   ],
   "source": [
    "print(t*2)"
   ]
  },
  {
   "cell_type": "code",
   "execution_count": 13,
   "id": "c2e18b53-3c29-4f61-b032-c3740257a46c",
   "metadata": {},
   "outputs": [
    {
     "data": {
      "text/plain": [
       "('omkar', 'pw', 2, 5.6)"
      ]
     },
     "execution_count": 13,
     "metadata": {},
     "output_type": "execute_result"
    }
   ],
   "source": [
    "t[0:4]"
   ]
  },
  {
   "cell_type": "code",
   "execution_count": 14,
   "id": "1e6e0e56-94a5-44fd-9ab0-3853ab6dcdc2",
   "metadata": {},
   "outputs": [
    {
     "data": {
      "text/plain": [
       "((5+8j), True, 5.6, 2, 'pw', 'omkar')"
      ]
     },
     "execution_count": 14,
     "metadata": {},
     "output_type": "execute_result"
    }
   ],
   "source": [
    "t[::-1]"
   ]
  },
  {
   "cell_type": "code",
   "execution_count": 16,
   "id": "14ddb590-72d7-4f88-b332-18a90ab9c4ec",
   "metadata": {},
   "outputs": [
    {
     "name": "stdout",
     "output_type": "stream",
     "text": [
      "omkar <class 'str'>\n",
      "pw <class 'str'>\n",
      "2 <class 'int'>\n",
      "5.6 <class 'float'>\n",
      "True <class 'bool'>\n",
      "(5+8j) <class 'complex'>\n"
     ]
    }
   ],
   "source": [
    "for i in t:\n",
    "    print(i,type(i))"
   ]
  },
  {
   "cell_type": "code",
   "execution_count": 18,
   "id": "b6e88714-86cf-427b-8271-f3f0d96d967b",
   "metadata": {},
   "outputs": [
    {
     "data": {
      "text/plain": [
       "4"
      ]
     },
     "execution_count": 18,
     "metadata": {},
     "output_type": "execute_result"
    }
   ],
   "source": [
    "max(empid)"
   ]
  },
  {
   "cell_type": "code",
   "execution_count": 20,
   "id": "014ba4b5-5cfe-4028-bad6-f728bba6621e",
   "metadata": {},
   "outputs": [
    {
     "data": {
      "text/plain": [
       "(3, 4, 5, 39, 10, 22, 3)"
      ]
     },
     "execution_count": 20,
     "metadata": {},
     "output_type": "execute_result"
    }
   ],
   "source": [
    "t1=(3,4,5)\n",
    "t2=(39,10,22,3)\n",
    "t3=(t1+t2)\n",
    "t3 ##nseted tuples"
   ]
  },
  {
   "cell_type": "code",
   "execution_count": 21,
   "id": "164a1a7c-fea8-48c7-bfec-1ca13308008e",
   "metadata": {},
   "outputs": [
    {
     "data": {
      "text/plain": [
       "3"
      ]
     },
     "execution_count": 21,
     "metadata": {},
     "output_type": "execute_result"
    }
   ],
   "source": [
    "len(t1)"
   ]
  },
  {
   "cell_type": "code",
   "execution_count": 22,
   "id": "2ee3c7ed-6478-45ef-a479-fd05d4df3397",
   "metadata": {},
   "outputs": [
    {
     "data": {
      "text/plain": [
       "False"
      ]
     },
     "execution_count": 22,
     "metadata": {},
     "output_type": "execute_result"
    }
   ],
   "source": [
    "1 in t1"
   ]
  },
  {
   "cell_type": "code",
   "execution_count": 23,
   "id": "03e33eb0-ae57-4d9d-9680-a1b1f3c60135",
   "metadata": {},
   "outputs": [
    {
     "data": {
      "text/plain": [
       "True"
      ]
     },
     "execution_count": 23,
     "metadata": {},
     "output_type": "execute_result"
    }
   ],
   "source": [
    "3 in t1"
   ]
  },
  {
   "cell_type": "code",
   "execution_count": 24,
   "id": "a9882be0-6f8e-40cb-a17a-7c51255a80fa",
   "metadata": {},
   "outputs": [
    {
     "data": {
      "text/plain": [
       "(3, 4, 5)"
      ]
     },
     "execution_count": 24,
     "metadata": {},
     "output_type": "execute_result"
    }
   ],
   "source": [
    "t1"
   ]
  },
  {
   "cell_type": "code",
   "execution_count": 25,
   "id": "25c128ca-2076-4f40-b62f-cb5eddda8042",
   "metadata": {},
   "outputs": [
    {
     "data": {
      "text/plain": [
       "(39, 10, 22, 3)"
      ]
     },
     "execution_count": 25,
     "metadata": {},
     "output_type": "execute_result"
    }
   ],
   "source": [
    "t2"
   ]
  },
  {
   "cell_type": "code",
   "execution_count": 26,
   "id": "f1c667a4-eb49-43b0-aa27-f890e1d1a6e4",
   "metadata": {},
   "outputs": [
    {
     "data": {
      "text/plain": [
       "(3, 4, 5, 39, 10, 22, 3)"
      ]
     },
     "execution_count": 26,
     "metadata": {},
     "output_type": "execute_result"
    }
   ],
   "source": [
    "##combine both tuples\n",
    "t1+t2"
   ]
  },
  {
   "cell_type": "code",
   "execution_count": null,
   "id": "5888d33f-b22a-46eb-80be-90d17330fc15",
   "metadata": {},
   "outputs": [],
   "source": [
    "###sets>>unorderd and unique collection of elements\n",
    "##does not allow duplicate elements\n",
    "##indexing not work bcoz its unordered"
   ]
  },
  {
   "cell_type": "code",
   "execution_count": 31,
   "id": "90506f7e-c7b5-4e82-a901-07cb8bbc4930",
   "metadata": {},
   "outputs": [],
   "source": [
    "s={1,2,3,4} ## sets cannot be empty"
   ]
  },
  {
   "cell_type": "code",
   "execution_count": 32,
   "id": "173351cf-9116-4da1-88ab-959a1df1f881",
   "metadata": {},
   "outputs": [
    {
     "data": {
      "text/plain": [
       "set"
      ]
     },
     "execution_count": 32,
     "metadata": {},
     "output_type": "execute_result"
    }
   ],
   "source": [
    "type(s)"
   ]
  },
  {
   "cell_type": "code",
   "execution_count": 33,
   "id": "78f2d7e8-b906-463f-ad3e-7ca9dd95dbe9",
   "metadata": {},
   "outputs": [],
   "source": [
    "s={1,2,3,2,1,'pw','omkar','omkar','anu'}"
   ]
  },
  {
   "cell_type": "code",
   "execution_count": 34,
   "id": "8c2e088f-8d17-4f7e-b68b-3a5f60480f19",
   "metadata": {},
   "outputs": [
    {
     "data": {
      "text/plain": [
       "{1, 2, 3, 'anu', 'omkar', 'pw'}"
      ]
     },
     "execution_count": 34,
     "metadata": {},
     "output_type": "execute_result"
    }
   ],
   "source": [
    "s"
   ]
  },
  {
   "cell_type": "code",
   "execution_count": 36,
   "id": "9157a985-389d-4649-b9e2-325f2ee76de6",
   "metadata": {},
   "outputs": [],
   "source": [
    "list1=[1,1.1,'omkar','anu','anu']\n",
    "s1=set(list1)"
   ]
  },
  {
   "cell_type": "code",
   "execution_count": 37,
   "id": "bbaa74de-9453-460a-b35f-5ed6973cae8c",
   "metadata": {},
   "outputs": [
    {
     "data": {
      "text/plain": [
       "{1, 1.1, 'anu', 'omkar'}"
      ]
     },
     "execution_count": 37,
     "metadata": {},
     "output_type": "execute_result"
    }
   ],
   "source": [
    "s1"
   ]
  },
  {
   "cell_type": "code",
   "execution_count": 38,
   "id": "ea663135-26e1-40ba-9bea-109f4cd8da9c",
   "metadata": {},
   "outputs": [
    {
     "ename": "TypeError",
     "evalue": "'set' object is not subscriptable",
     "output_type": "error",
     "traceback": [
      "\u001b[0;31m---------------------------------------------------------------------------\u001b[0m",
      "\u001b[0;31mTypeError\u001b[0m                                 Traceback (most recent call last)",
      "Cell \u001b[0;32mIn[38], line 1\u001b[0m\n\u001b[0;32m----> 1\u001b[0m \u001b[43ms1\u001b[49m\u001b[43m[\u001b[49m\u001b[38;5;241;43m0\u001b[39;49m\u001b[43m]\u001b[49m\n",
      "\u001b[0;31mTypeError\u001b[0m: 'set' object is not subscriptable"
     ]
    }
   ],
   "source": [
    "s1[0]##unordered"
   ]
  },
  {
   "cell_type": "code",
   "execution_count": 42,
   "id": "f577a37f-f8d5-43a7-9664-953b8a65f2ac",
   "metadata": {},
   "outputs": [
    {
     "ename": "TypeError",
     "evalue": "unhashable type: 'set'",
     "output_type": "error",
     "traceback": [
      "\u001b[0;31m---------------------------------------------------------------------------\u001b[0m",
      "\u001b[0;31mTypeError\u001b[0m                                 Traceback (most recent call last)",
      "Cell \u001b[0;32mIn[42], line 1\u001b[0m\n\u001b[0;32m----> 1\u001b[0m {\u001b[38;5;241m1\u001b[39m,\u001b[38;5;241m2\u001b[39m,\u001b[38;5;241m3\u001b[39m,\u001b[38;5;241m4\u001b[39m,\u001b[38;5;241m5\u001b[39m,\u001b[38;5;241m6\u001b[39m,{\u001b[38;5;241m4\u001b[39m,\u001b[38;5;241m5\u001b[39m,\u001b[38;5;241m6\u001b[39m}}\u001b[38;5;66;03m## set inside set is immutable\u001b[39;00m\n",
      "\u001b[0;31mTypeError\u001b[0m: unhashable type: 'set'"
     ]
    }
   ],
   "source": [
    "{1,2,3,4,5,6,{4,5,6}}## set inside set is immutable"
   ]
  },
  {
   "cell_type": "code",
   "execution_count": 41,
   "id": "a6c1ca06-1420-4e33-a3f7-5eaac061665b",
   "metadata": {},
   "outputs": [
    {
     "ename": "TypeError",
     "evalue": "unhashable type: 'list'",
     "output_type": "error",
     "traceback": [
      "\u001b[0;31m---------------------------------------------------------------------------\u001b[0m",
      "\u001b[0;31mTypeError\u001b[0m                                 Traceback (most recent call last)",
      "Cell \u001b[0;32mIn[41], line 1\u001b[0m\n\u001b[0;32m----> 1\u001b[0m {\u001b[38;5;241m1\u001b[39m,\u001b[38;5;241m2\u001b[39m,\u001b[38;5;241m3\u001b[39m,\u001b[38;5;241m4\u001b[39m,\u001b[38;5;241m5\u001b[39m,\u001b[38;5;241m6\u001b[39m,[\u001b[38;5;241m4\u001b[39m,\u001b[38;5;241m5\u001b[39m,\u001b[38;5;241m6\u001b[39m]}\n",
      "\u001b[0;31mTypeError\u001b[0m: unhashable type: 'list'"
     ]
    }
   ],
   "source": [
    "{1,2,3,4,5,6,[4,5,6]}##unhashable type>> immutable\n",
    "##immutable data str has a stable hash values like tuple"
   ]
  },
  {
   "cell_type": "code",
   "execution_count": 43,
   "id": "5349c52b-797f-48cd-839b-c9d173d4bee7",
   "metadata": {},
   "outputs": [
    {
     "data": {
      "text/plain": [
       "{(4, 5, 6), 1, 2, 3, 4, 5, 6}"
      ]
     },
     "execution_count": 43,
     "metadata": {},
     "output_type": "execute_result"
    }
   ],
   "source": [
    "{1,2,3,4,5,6,(4,5,6)}"
   ]
  },
  {
   "cell_type": "code",
   "execution_count": 45,
   "id": "eea3ed39-8bdc-4dc6-889b-f54810080355",
   "metadata": {},
   "outputs": [
    {
     "ename": "TypeError",
     "evalue": "'set' object is not subscriptable",
     "output_type": "error",
     "traceback": [
      "\u001b[0;31m---------------------------------------------------------------------------\u001b[0m",
      "\u001b[0;31mTypeError\u001b[0m                                 Traceback (most recent call last)",
      "Cell \u001b[0;32mIn[45], line 1\u001b[0m\n\u001b[0;32m----> 1\u001b[0m \u001b[43ms\u001b[49m\u001b[43m[\u001b[49m\u001b[38;5;241;43m0\u001b[39;49m\u001b[43m]\u001b[49m\n",
      "\u001b[0;31mTypeError\u001b[0m: 'set' object is not subscriptable"
     ]
    }
   ],
   "source": [
    "s[0]"
   ]
  },
  {
   "cell_type": "code",
   "execution_count": 46,
   "id": "b6ad1d87-56c3-47d8-91e6-a7170aea94ad",
   "metadata": {},
   "outputs": [
    {
     "ename": "TypeError",
     "evalue": "'set' object is not subscriptable",
     "output_type": "error",
     "traceback": [
      "\u001b[0;31m---------------------------------------------------------------------------\u001b[0m",
      "\u001b[0;31mTypeError\u001b[0m                                 Traceback (most recent call last)",
      "Cell \u001b[0;32mIn[46], line 1\u001b[0m\n\u001b[0;32m----> 1\u001b[0m \u001b[43ms\u001b[49m\u001b[43m[\u001b[49m\u001b[43m:\u001b[49m\u001b[43m:\u001b[49m\u001b[38;5;241;43m-\u001b[39;49m\u001b[38;5;241;43m1\u001b[39;49m\u001b[43m]\u001b[49m\n",
      "\u001b[0;31mTypeError\u001b[0m: 'set' object is not subscriptable"
     ]
    }
   ],
   "source": [
    "s[::-1]"
   ]
  },
  {
   "cell_type": "code",
   "execution_count": 47,
   "id": "fe57eb6f-18d8-495d-9014-716d12fbbad1",
   "metadata": {},
   "outputs": [
    {
     "name": "stdout",
     "output_type": "stream",
     "text": [
      "pw\n",
      "1\n",
      "2\n",
      "3\n",
      "omkar\n",
      "anu\n"
     ]
    }
   ],
   "source": [
    "for i in s:\n",
    "    print(i)"
   ]
  },
  {
   "cell_type": "code",
   "execution_count": 56,
   "id": "92d63550-92ac-404c-a615-7ddabcec8986",
   "metadata": {},
   "outputs": [],
   "source": [
    "s={1,2,3,2,1,'pw','omkar','omkar','anu'}"
   ]
  },
  {
   "cell_type": "code",
   "execution_count": 57,
   "id": "6f0688c9-f3c2-408c-9051-f0e42ac7bb85",
   "metadata": {},
   "outputs": [],
   "source": [
    "s.add(100)"
   ]
  },
  {
   "cell_type": "code",
   "execution_count": 58,
   "id": "09da8b15-86d6-4c87-b314-f74cc74a40a7",
   "metadata": {},
   "outputs": [
    {
     "data": {
      "text/plain": [
       "{1, 100, 2, 3, 'anu', 'omkar', 'pw'}"
      ]
     },
     "execution_count": 58,
     "metadata": {},
     "output_type": "execute_result"
    }
   ],
   "source": [
    "s"
   ]
  },
  {
   "cell_type": "code",
   "execution_count": 59,
   "id": "a22c897c-218a-4fbd-8c88-b6da9edbfd22",
   "metadata": {},
   "outputs": [
    {
     "data": {
      "text/plain": [
       "'pw'"
      ]
     },
     "execution_count": 59,
     "metadata": {},
     "output_type": "execute_result"
    }
   ],
   "source": [
    "s.pop()"
   ]
  },
  {
   "cell_type": "code",
   "execution_count": 60,
   "id": "552c5633-c7d2-4092-9206-43dd302920f7",
   "metadata": {},
   "outputs": [
    {
     "data": {
      "text/plain": [
       "{1, 100, 2, 3, 'anu', 'omkar'}"
      ]
     },
     "execution_count": 60,
     "metadata": {},
     "output_type": "execute_result"
    }
   ],
   "source": [
    "s"
   ]
  },
  {
   "cell_type": "code",
   "execution_count": 61,
   "id": "b560cdd9-ba05-4fa3-aa8c-eba3be007417",
   "metadata": {},
   "outputs": [],
   "source": [
    "s.remove(3)## remove specific element"
   ]
  },
  {
   "cell_type": "code",
   "execution_count": 62,
   "id": "ee000ec1-311c-47e7-9b9f-bad816541c71",
   "metadata": {},
   "outputs": [
    {
     "data": {
      "text/plain": [
       "{1, 100, 2, 'anu', 'omkar'}"
      ]
     },
     "execution_count": 62,
     "metadata": {},
     "output_type": "execute_result"
    }
   ],
   "source": [
    "s"
   ]
  },
  {
   "cell_type": "code",
   "execution_count": 63,
   "id": "e17b0323-e0f3-412e-8dbf-74a1b878a4e0",
   "metadata": {},
   "outputs": [],
   "source": [
    "s.update(\"omkar\")"
   ]
  },
  {
   "cell_type": "code",
   "execution_count": 64,
   "id": "5b50efb0-e339-4b73-9a15-764883b59ca2",
   "metadata": {},
   "outputs": [
    {
     "data": {
      "text/plain": [
       "{1, 100, 2, 'a', 'anu', 'k', 'm', 'o', 'omkar', 'r'}"
      ]
     },
     "execution_count": 64,
     "metadata": {},
     "output_type": "execute_result"
    }
   ],
   "source": [
    "s"
   ]
  },
  {
   "cell_type": "code",
   "execution_count": 65,
   "id": "eb01e0f6-95db-4123-a331-330c69fef4dd",
   "metadata": {},
   "outputs": [],
   "source": [
    "s.update([\"omkar\"])"
   ]
  },
  {
   "cell_type": "code",
   "execution_count": 66,
   "id": "01a64ec3-a946-4f54-8945-0aab9745dd41",
   "metadata": {},
   "outputs": [
    {
     "data": {
      "text/plain": [
       "{1, 100, 2, 'a', 'anu', 'k', 'm', 'o', 'omkar', 'r'}"
      ]
     },
     "execution_count": 66,
     "metadata": {},
     "output_type": "execute_result"
    }
   ],
   "source": [
    "s"
   ]
  },
  {
   "cell_type": "code",
   "execution_count": 67,
   "id": "42bb92f9-4b9d-4917-9b78-dca92fc18f25",
   "metadata": {},
   "outputs": [],
   "source": [
    "s.update([1000])"
   ]
  },
  {
   "cell_type": "code",
   "execution_count": 68,
   "id": "fbcfcdff-b9d9-4e3a-a352-04d1938a543f",
   "metadata": {},
   "outputs": [
    {
     "data": {
      "text/plain": [
       "{1, 100, 1000, 2, 'a', 'anu', 'k', 'm', 'o', 'omkar', 'r'}"
      ]
     },
     "execution_count": 68,
     "metadata": {},
     "output_type": "execute_result"
    }
   ],
   "source": [
    "s"
   ]
  },
  {
   "cell_type": "code",
   "execution_count": 70,
   "id": "0e7df03b-a531-482b-b9a6-a66b3436604a",
   "metadata": {},
   "outputs": [],
   "source": [
    "s.clear()"
   ]
  },
  {
   "cell_type": "code",
   "execution_count": 71,
   "id": "52843b29-a6eb-4fe2-83e7-285c7a357af2",
   "metadata": {},
   "outputs": [
    {
     "data": {
      "text/plain": [
       "set()"
      ]
     },
     "execution_count": 71,
     "metadata": {},
     "output_type": "execute_result"
    }
   ],
   "source": [
    "s"
   ]
  },
  {
   "cell_type": "code",
   "execution_count": 72,
   "id": "92cc6ef1-4baf-42b7-b72e-fda13c1d29c9",
   "metadata": {},
   "outputs": [],
   "source": [
    "s={1,2,3,2,1,'pw','omkar','omkar','anu'}"
   ]
  },
  {
   "cell_type": "code",
   "execution_count": 73,
   "id": "7c0ff937-b377-46df-9b4a-1ceb6c080d55",
   "metadata": {},
   "outputs": [
    {
     "ename": "KeyError",
     "evalue": "'100'",
     "output_type": "error",
     "traceback": [
      "\u001b[0;31m---------------------------------------------------------------------------\u001b[0m",
      "\u001b[0;31mKeyError\u001b[0m                                  Traceback (most recent call last)",
      "Cell \u001b[0;32mIn[73], line 1\u001b[0m\n\u001b[0;32m----> 1\u001b[0m \u001b[43ms\u001b[49m\u001b[38;5;241;43m.\u001b[39;49m\u001b[43mremove\u001b[49m\u001b[43m(\u001b[49m\u001b[38;5;124;43m'\u001b[39;49m\u001b[38;5;124;43m100\u001b[39;49m\u001b[38;5;124;43m'\u001b[39;49m\u001b[43m)\u001b[49m\n",
      "\u001b[0;31mKeyError\u001b[0m: '100'"
     ]
    }
   ],
   "source": [
    "s.remove('100')"
   ]
  },
  {
   "cell_type": "code",
   "execution_count": 74,
   "id": "2fa7b122-5e77-4781-a0ef-3ae9b1b6c4bd",
   "metadata": {},
   "outputs": [],
   "source": [
    "s.discard('100')## not throws error"
   ]
  },
  {
   "cell_type": "code",
   "execution_count": 75,
   "id": "11af0dfe-9b28-488f-b255-a8ca1da438ec",
   "metadata": {},
   "outputs": [],
   "source": [
    "s.discard('pw')"
   ]
  },
  {
   "cell_type": "code",
   "execution_count": 76,
   "id": "72f9f02f-992a-46e6-8b44-f710b5b7d679",
   "metadata": {},
   "outputs": [
    {
     "data": {
      "text/plain": [
       "{1, 2, 3, 'anu', 'omkar'}"
      ]
     },
     "execution_count": 76,
     "metadata": {},
     "output_type": "execute_result"
    }
   ],
   "source": [
    "s"
   ]
  },
  {
   "cell_type": "code",
   "execution_count": null,
   "id": "0bd7638c-1029-4696-bb8a-ad5c1fc66ce7",
   "metadata": {},
   "outputs": [],
   "source": [
    "##set operations"
   ]
  },
  {
   "cell_type": "code",
   "execution_count": 80,
   "id": "1167f445-e9ca-4c48-9367-ebd07b7252e4",
   "metadata": {},
   "outputs": [],
   "source": [
    "s11={'football','cricket','tennis','snake and ladder'}\n",
    "s22={'chess','ludo','snake and ladder'}"
   ]
  },
  {
   "cell_type": "code",
   "execution_count": 81,
   "id": "200daa5b-216f-4ac2-99de-a1b63c0727c0",
   "metadata": {},
   "outputs": [
    {
     "data": {
      "text/plain": [
       "{'chess', 'cricket', 'football', 'ludo', 'snake and ladder', 'tennis'}"
      ]
     },
     "execution_count": 81,
     "metadata": {},
     "output_type": "execute_result"
    }
   ],
   "source": [
    "#union>>combine all elements\n",
    "s11 | s22"
   ]
  },
  {
   "cell_type": "code",
   "execution_count": 82,
   "id": "e5669de9-01b6-4ce6-9740-9571ed8d399d",
   "metadata": {},
   "outputs": [
    {
     "data": {
      "text/plain": [
       "{'snake and ladder'}"
      ]
     },
     "execution_count": 82,
     "metadata": {},
     "output_type": "execute_result"
    }
   ],
   "source": [
    "s11 & s22#intersection>>common ele"
   ]
  },
  {
   "cell_type": "code",
   "execution_count": 84,
   "id": "706580cf-dadd-488e-8842-d9d539a23a3e",
   "metadata": {},
   "outputs": [
    {
     "data": {
      "text/plain": [
       "{'cricket', 'football', 'tennis'}"
      ]
     },
     "execution_count": 84,
     "metadata": {},
     "output_type": "execute_result"
    }
   ],
   "source": [
    "s11-s22#difference"
   ]
  },
  {
   "cell_type": "code",
   "execution_count": 85,
   "id": "af715d0e-32b3-47a0-813c-ce2739e86d04",
   "metadata": {},
   "outputs": [
    {
     "data": {
      "text/plain": [
       "{'chess', 'cricket', 'football', 'ludo', 'tennis'}"
      ]
     },
     "execution_count": 85,
     "metadata": {},
     "output_type": "execute_result"
    }
   ],
   "source": [
    "s11^s22#symmetric difference"
   ]
  },
  {
   "cell_type": "code",
   "execution_count": 87,
   "id": "b05c89ec-919b-409e-abaa-c86c93b3c272",
   "metadata": {},
   "outputs": [],
   "source": [
    "##frozen sets>>immutable version of sets"
   ]
  },
  {
   "cell_type": "code",
   "execution_count": 88,
   "id": "af21f711-c822-4fb8-81ae-6bea77c888cb",
   "metadata": {},
   "outputs": [],
   "source": [
    "set11=frozenset([1,22,2,22,3,5])"
   ]
  },
  {
   "cell_type": "code",
   "execution_count": 89,
   "id": "4564e3dd-362e-41ae-8bde-6afcc51ecf08",
   "metadata": {},
   "outputs": [
    {
     "data": {
      "text/plain": [
       "frozenset({1, 2, 3, 5, 22})"
      ]
     },
     "execution_count": 89,
     "metadata": {},
     "output_type": "execute_result"
    }
   ],
   "source": [
    "set11"
   ]
  },
  {
   "cell_type": "code",
   "execution_count": 90,
   "id": "bebb2f84-0c9f-4096-b8d6-4deea5d8771a",
   "metadata": {},
   "outputs": [
    {
     "ename": "AttributeError",
     "evalue": "'frozenset' object has no attribute 'pop'",
     "output_type": "error",
     "traceback": [
      "\u001b[0;31m---------------------------------------------------------------------------\u001b[0m",
      "\u001b[0;31mAttributeError\u001b[0m                            Traceback (most recent call last)",
      "Cell \u001b[0;32mIn[90], line 1\u001b[0m\n\u001b[0;32m----> 1\u001b[0m \u001b[43mset11\u001b[49m\u001b[38;5;241;43m.\u001b[39;49m\u001b[43mpop\u001b[49m(\u001b[38;5;241m1\u001b[39m)\n",
      "\u001b[0;31mAttributeError\u001b[0m: 'frozenset' object has no attribute 'pop'"
     ]
    }
   ],
   "source": [
    "set11.pop(1)"
   ]
  },
  {
   "cell_type": "code",
   "execution_count": null,
   "id": "786f918c-76c9-4bc1-a38b-41e8a32872b7",
   "metadata": {},
   "outputs": [],
   "source": []
  }
 ],
 "metadata": {
  "kernelspec": {
   "display_name": "Python 3 (ipykernel)",
   "language": "python",
   "name": "python3"
  },
  "language_info": {
   "codemirror_mode": {
    "name": "ipython",
    "version": 3
   },
   "file_extension": ".py",
   "mimetype": "text/x-python",
   "name": "python",
   "nbconvert_exporter": "python",
   "pygments_lexer": "ipython3",
   "version": "3.10.8"
  }
 },
 "nbformat": 4,
 "nbformat_minor": 5
}
