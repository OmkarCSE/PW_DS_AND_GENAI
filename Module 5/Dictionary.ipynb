{
 "cells": [
  {
   "cell_type": "code",
   "execution_count": 1,
   "id": "bf681b95-2470-44bf-97dc-c7b299ee434d",
   "metadata": {},
   "outputs": [],
   "source": [
    "###dictionary data str that stores data s key value pair\n",
    "##keys are unique and immutable\n"
   ]
  },
  {
   "cell_type": "code",
   "execution_count": 2,
   "id": "d313dba2-fab2-4638-aaa0-8a6cd1f32103",
   "metadata": {},
   "outputs": [
    {
     "data": {
      "text/plain": [
       "dict"
      ]
     },
     "execution_count": 2,
     "metadata": {},
     "output_type": "execute_result"
    }
   ],
   "source": [
    "d={}\n",
    "type(d)"
   ]
  },
  {
   "cell_type": "code",
   "execution_count": 3,
   "id": "0d0cc2fb-cacf-46d8-b67b-6c3aee320d80",
   "metadata": {},
   "outputs": [],
   "source": [
    "d={\"name\":\"omkar\",\"email\":\"t@mail.com\",\"contact\":1224}"
   ]
  },
  {
   "cell_type": "code",
   "execution_count": 4,
   "id": "006c38fd-b709-4d44-aeb8-7dc4d070b4e3",
   "metadata": {},
   "outputs": [
    {
     "data": {
      "text/plain": [
       "{'name': 'omkar', 'email': 't@mail.com', 'contact': 1224}"
      ]
     },
     "execution_count": 4,
     "metadata": {},
     "output_type": "execute_result"
    }
   ],
   "source": [
    "d"
   ]
  },
  {
   "cell_type": "code",
   "execution_count": 5,
   "id": "7e487b0b-8c6b-4c40-9fe5-c79a91ff1398",
   "metadata": {},
   "outputs": [],
   "source": [
    "l=[1,2,3,4]"
   ]
  },
  {
   "cell_type": "code",
   "execution_count": 6,
   "id": "228ae949-87c1-48a4-8020-13528d63324f",
   "metadata": {},
   "outputs": [
    {
     "data": {
      "text/plain": [
       "1"
      ]
     },
     "execution_count": 6,
     "metadata": {},
     "output_type": "execute_result"
    }
   ],
   "source": [
    "l[0]"
   ]
  },
  {
   "cell_type": "code",
   "execution_count": 7,
   "id": "47955256-1730-45c2-a884-3d08424328f7",
   "metadata": {},
   "outputs": [
    {
     "data": {
      "text/plain": [
       "'omkar'"
      ]
     },
     "execution_count": 7,
     "metadata": {},
     "output_type": "execute_result"
    }
   ],
   "source": [
    "d['name']"
   ]
  },
  {
   "cell_type": "code",
   "execution_count": 8,
   "id": "a0d0a841-e810-49c6-9e0e-bf457ceb9d1f",
   "metadata": {},
   "outputs": [],
   "source": [
    "d['name']='aniket'"
   ]
  },
  {
   "cell_type": "code",
   "execution_count": 9,
   "id": "85b8fb26-c368-4e82-9c48-19ee5e961931",
   "metadata": {},
   "outputs": [
    {
     "data": {
      "text/plain": [
       "{'name': 'aniket', 'email': 't@mail.com', 'contact': 1224}"
      ]
     },
     "execution_count": 9,
     "metadata": {},
     "output_type": "execute_result"
    }
   ],
   "source": [
    "d\n"
   ]
  },
  {
   "cell_type": "code",
   "execution_count": 10,
   "id": "9fc621b8-b262-448e-810b-6fc369b53a1e",
   "metadata": {},
   "outputs": [],
   "source": [
    "dd={'no':1}"
   ]
  },
  {
   "cell_type": "code",
   "execution_count": 11,
   "id": "160b6079-b686-4dc2-a09b-a6de15ccf0c3",
   "metadata": {},
   "outputs": [
    {
     "data": {
      "text/plain": [
       "1"
      ]
     },
     "execution_count": 11,
     "metadata": {},
     "output_type": "execute_result"
    }
   ],
   "source": [
    "dd['no']"
   ]
  },
  {
   "cell_type": "code",
   "execution_count": 13,
   "id": "bea98985-9f8a-44c4-bf27-ba7903e0b1ba",
   "metadata": {},
   "outputs": [],
   "source": [
    "##rules for keys we can have int,double,boolean value\n",
    "##special caracters cannot have as key\n",
    "##cannot have list as key but sinse it is immutable tuple can have as key\n",
    "## set,dictionary  cannot be key "
   ]
  },
  {
   "cell_type": "code",
   "execution_count": 14,
   "id": "68c38425-3354-4bfb-8963-659ba747dc85",
   "metadata": {},
   "outputs": [],
   "source": [
    "d={\"name\":\"omkar\",\"email\":\"t@mail.com\",\"contact\":1224,\"name\":\"anu:\"}"
   ]
  },
  {
   "cell_type": "code",
   "execution_count": 15,
   "id": "51f8a20a-af11-4680-bf59-465c8148cbb2",
   "metadata": {},
   "outputs": [
    {
     "data": {
      "text/plain": [
       "{'name': 'anu:', 'email': 't@mail.com', 'contact': 1224}"
      ]
     },
     "execution_count": 15,
     "metadata": {},
     "output_type": "execute_result"
    }
   ],
   "source": [
    "d"
   ]
  },
  {
   "cell_type": "code",
   "execution_count": 16,
   "id": "50fc64d1-e17d-43d5-ad86-d663da986de2",
   "metadata": {},
   "outputs": [],
   "source": [
    "##always last key value will be used"
   ]
  },
  {
   "cell_type": "code",
   "execution_count": 17,
   "id": "afc2d426-ac64-4413-8f2d-1b3da09881c4",
   "metadata": {},
   "outputs": [
    {
     "data": {
      "text/plain": [
       "{'name': 'anu:', 'email': 't@mail.com', 'contact': 1224}"
      ]
     },
     "execution_count": 17,
     "metadata": {},
     "output_type": "execute_result"
    }
   ],
   "source": [
    "d"
   ]
  },
  {
   "cell_type": "code",
   "execution_count": 18,
   "id": "42dafd36-42c5-4977-9af3-32fb369eab5c",
   "metadata": {},
   "outputs": [],
   "source": [
    "dd1={\"name\":[\"omkar\",\"ajay\"],\"email\":\"t@mail.com\",\"contact\":1224}"
   ]
  },
  {
   "cell_type": "code",
   "execution_count": 19,
   "id": "8c788589-1979-4aea-b647-1afefc2e804b",
   "metadata": {},
   "outputs": [
    {
     "data": {
      "text/plain": [
       "{'name': ['omkar', 'ajay'], 'email': 't@mail.com', 'contact': 1224}"
      ]
     },
     "execution_count": 19,
     "metadata": {},
     "output_type": "execute_result"
    }
   ],
   "source": [
    "dd1"
   ]
  },
  {
   "cell_type": "code",
   "execution_count": 20,
   "id": "c94e9158-0be6-4696-8141-d7960e1b4264",
   "metadata": {},
   "outputs": [
    {
     "data": {
      "text/plain": [
       "'ajay'"
      ]
     },
     "execution_count": 20,
     "metadata": {},
     "output_type": "execute_result"
    }
   ],
   "source": [
    "dd1[\"name\"][1] ##value can be any data type"
   ]
  },
  {
   "cell_type": "code",
   "execution_count": 21,
   "id": "a9a1cb62-4cca-47d5-8ca2-0f98f9a8b178",
   "metadata": {},
   "outputs": [
    {
     "data": {
      "text/plain": [
       "{'name': ['omkar', 'ajay'], 'email': 't@mail.com', 'contact': 1224}"
      ]
     },
     "execution_count": 21,
     "metadata": {},
     "output_type": "execute_result"
    }
   ],
   "source": [
    "dd1"
   ]
  },
  {
   "cell_type": "code",
   "execution_count": 25,
   "id": "b99a9def-cb6a-4311-bd16-f7d31b375ffa",
   "metadata": {},
   "outputs": [],
   "source": [
    "dd1[\"addr\"]=\"pune\" ##to add new key val pair"
   ]
  },
  {
   "cell_type": "code",
   "execution_count": 26,
   "id": "3269119f-bf99-4589-813a-5291f30977a7",
   "metadata": {},
   "outputs": [
    {
     "data": {
      "text/plain": [
       "{'name': ['omkar', 'ajay'],\n",
       " 'email': 't@mail.com',\n",
       " 'contact': 1224,\n",
       " 'addr': 'pune'}"
      ]
     },
     "execution_count": 26,
     "metadata": {},
     "output_type": "execute_result"
    }
   ],
   "source": [
    "dd1"
   ]
  },
  {
   "cell_type": "code",
   "execution_count": 27,
   "id": "a84b7068-0bf1-43a8-895c-083ec19eefa7",
   "metadata": {},
   "outputs": [],
   "source": [
    "del dd1[\"addr\"] ##deleting a key val pair"
   ]
  },
  {
   "cell_type": "code",
   "execution_count": 28,
   "id": "79f4f86c-f501-4520-91f9-2ba399252911",
   "metadata": {},
   "outputs": [
    {
     "data": {
      "text/plain": [
       "{'name': ['omkar', 'ajay'], 'email': 't@mail.com', 'contact': 1224}"
      ]
     },
     "execution_count": 28,
     "metadata": {},
     "output_type": "execute_result"
    }
   ],
   "source": [
    "dd1"
   ]
  },
  {
   "cell_type": "code",
   "execution_count": 33,
   "id": "d05d6ec7-4b4d-47be-9d95-bf079d753c19",
   "metadata": {},
   "outputs": [],
   "source": [
    "\n",
    "del dd1 ##whole dictionary"
   ]
  },
  {
   "cell_type": "code",
   "execution_count": 30,
   "id": "4f94484a-74f3-46bf-a800-b30d8a5ce04f",
   "metadata": {},
   "outputs": [
    {
     "ename": "NameError",
     "evalue": "name 'dd1' is not defined",
     "output_type": "error",
     "traceback": [
      "\u001b[0;31m---------------------------------------------------------------------------\u001b[0m",
      "\u001b[0;31mNameError\u001b[0m                                 Traceback (most recent call last)",
      "Cell \u001b[0;32mIn[30], line 1\u001b[0m\n\u001b[0;32m----> 1\u001b[0m \u001b[43mdd1\u001b[49m\n",
      "\u001b[0;31mNameError\u001b[0m: name 'dd1' is not defined"
     ]
    }
   ],
   "source": [
    "dd1"
   ]
  },
  {
   "cell_type": "code",
   "execution_count": 34,
   "id": "ac69fbf0-b785-4acb-86ca-6ac6d19cebae",
   "metadata": {},
   "outputs": [],
   "source": [
    "dd1={\"name\":[\"omkar\",\"ajay\"],\"email\":\"t@mail.com\",\"contact\":1224}"
   ]
  },
  {
   "cell_type": "code",
   "execution_count": 35,
   "id": "48268070-568c-449f-8ba2-42c1997316ea",
   "metadata": {},
   "outputs": [],
   "source": [
    "dd1.clear() ##empty dict"
   ]
  },
  {
   "cell_type": "code",
   "execution_count": 36,
   "id": "fe35d565-62bf-43f0-97de-10d234f25ff9",
   "metadata": {},
   "outputs": [
    {
     "data": {
      "text/plain": [
       "{}"
      ]
     },
     "execution_count": 36,
     "metadata": {},
     "output_type": "execute_result"
    }
   ],
   "source": [
    "dd1"
   ]
  },
  {
   "cell_type": "code",
   "execution_count": 37,
   "id": "6006b85e-f9ee-4444-a944-b73d8427cb8d",
   "metadata": {},
   "outputs": [],
   "source": [
    "dd1={\"name\":[\"omkar\",\"ajay\"],\"email\":\"t@mail.com\",\"contact\":1224}"
   ]
  },
  {
   "cell_type": "code",
   "execution_count": 41,
   "id": "9f810767-3601-4512-8f2c-937042847ec0",
   "metadata": {},
   "outputs": [
    {
     "data": {
      "text/plain": [
       "3"
      ]
     },
     "execution_count": 41,
     "metadata": {},
     "output_type": "execute_result"
    }
   ],
   "source": [
    "len(dd1)"
   ]
  },
  {
   "cell_type": "code",
   "execution_count": 42,
   "id": "541924ec-4cc4-4140-8a3d-8dce5dd9bf2a",
   "metadata": {},
   "outputs": [
    {
     "data": {
      "text/plain": [
       "dict_keys(['name', 'email', 'contact'])"
      ]
     },
     "execution_count": 42,
     "metadata": {},
     "output_type": "execute_result"
    }
   ],
   "source": [
    "dd1.keys()"
   ]
  },
  {
   "cell_type": "code",
   "execution_count": 43,
   "id": "49f32bd2-3623-4459-9ef3-04440f61a8cf",
   "metadata": {},
   "outputs": [
    {
     "data": {
      "text/plain": [
       "dict_values([['omkar', 'ajay'], 't@mail.com', 1224])"
      ]
     },
     "execution_count": 43,
     "metadata": {},
     "output_type": "execute_result"
    }
   ],
   "source": [
    "dd1.values()"
   ]
  },
  {
   "cell_type": "code",
   "execution_count": 44,
   "id": "1c33bc78-deea-4cfe-865a-1a9dca35d431",
   "metadata": {},
   "outputs": [
    {
     "data": {
      "text/plain": [
       "1224"
      ]
     },
     "execution_count": 44,
     "metadata": {},
     "output_type": "execute_result"
    }
   ],
   "source": [
    "dd1.pop(\"contact\")"
   ]
  },
  {
   "cell_type": "code",
   "execution_count": 45,
   "id": "4c1a031c-041b-401a-876d-62cd6b4ba67b",
   "metadata": {},
   "outputs": [
    {
     "data": {
      "text/plain": [
       "{'name': ['omkar', 'ajay'], 'email': 't@mail.com'}"
      ]
     },
     "execution_count": 45,
     "metadata": {},
     "output_type": "execute_result"
    }
   ],
   "source": [
    "dd1"
   ]
  },
  {
   "cell_type": "code",
   "execution_count": 46,
   "id": "a9bceac6-c993-44cc-90ea-c2cfcefe275b",
   "metadata": {},
   "outputs": [],
   "source": [
    "dict1={\"course\":\"ds\"}"
   ]
  },
  {
   "cell_type": "code",
   "execution_count": 47,
   "id": "37c101e6-5294-4de9-9644-de31337c203f",
   "metadata": {},
   "outputs": [
    {
     "data": {
      "text/plain": [
       "{'course': 'ds'}"
      ]
     },
     "execution_count": 47,
     "metadata": {},
     "output_type": "execute_result"
    }
   ],
   "source": [
    "dict1"
   ]
  },
  {
   "cell_type": "code",
   "execution_count": 48,
   "id": "5dc8526c-427c-4a28-8263-fe0262cd1021",
   "metadata": {},
   "outputs": [],
   "source": [
    "dd1.update(dict1)"
   ]
  },
  {
   "cell_type": "code",
   "execution_count": 49,
   "id": "4a7df9fa-58a5-4364-876c-507f2a447b6a",
   "metadata": {},
   "outputs": [
    {
     "data": {
      "text/plain": [
       "{'name': ['omkar', 'ajay'], 'email': 't@mail.com', 'course': 'ds'}"
      ]
     },
     "execution_count": 49,
     "metadata": {},
     "output_type": "execute_result"
    }
   ],
   "source": [
    "dd1"
   ]
  },
  {
   "cell_type": "code",
   "execution_count": 50,
   "id": "12825df8-f2e9-40f5-85a0-9e2ddc4fa793",
   "metadata": {},
   "outputs": [
    {
     "data": {
      "text/plain": [
       "['omkar', 'ajay']"
      ]
     },
     "execution_count": 50,
     "metadata": {},
     "output_type": "execute_result"
    }
   ],
   "source": [
    "dd1.get(\"name\")"
   ]
  },
  {
   "cell_type": "code",
   "execution_count": 51,
   "id": "63e96ce2-766d-4adb-832a-3128891ff25a",
   "metadata": {},
   "outputs": [
    {
     "data": {
      "text/plain": [
       "['omkar', 'ajay']"
      ]
     },
     "execution_count": 51,
     "metadata": {},
     "output_type": "execute_result"
    }
   ],
   "source": [
    "dd1[\"name\"]"
   ]
  },
  {
   "cell_type": "code",
   "execution_count": 53,
   "id": "9af9fe29-e629-408c-87d3-6e849124b95b",
   "metadata": {},
   "outputs": [],
   "source": [
    "## from keys\n",
    "dict2={}\n"
   ]
  },
  {
   "cell_type": "code",
   "execution_count": 54,
   "id": "11c920af-961a-4fd7-aafd-deb419a229b1",
   "metadata": {},
   "outputs": [
    {
     "data": {
      "text/plain": [
       "{1: ('a', 'b', 'c'), 2: ('a', 'b', 'c'), 3: ('a', 'b', 'c')}"
      ]
     },
     "execution_count": 54,
     "metadata": {},
     "output_type": "execute_result"
    }
   ],
   "source": [
    "dict2.fromkeys((1,2,3),('a','b','c'))"
   ]
  },
  {
   "cell_type": "code",
   "execution_count": 55,
   "id": "2a39637f-812e-4732-8cac-b701ce683fb8",
   "metadata": {},
   "outputs": [],
   "source": [
    "## dictionary comprehansion\n",
    "\n",
    "\n",
    "##zip function\n",
    "stud=['a','b','c']\n",
    "m=[80,90,95]"
   ]
  },
  {
   "cell_type": "code",
   "execution_count": 56,
   "id": "6a41a0a9-7784-47d3-89e7-1c95c02c21a3",
   "metadata": {},
   "outputs": [
    {
     "name": "stdout",
     "output_type": "stream",
     "text": [
      "('a', 80)\n",
      "('b', 90)\n",
      "('c', 95)\n"
     ]
    }
   ],
   "source": [
    "for i in zip(stud,m):\n",
    "    print(i)"
   ]
  },
  {
   "cell_type": "code",
   "execution_count": 59,
   "id": "e030e93d-c855-4a38-8413-b59d576d28c1",
   "metadata": {},
   "outputs": [],
   "source": [
    "##store above info in key value pair\n",
    "stud=['a','b','c']\n",
    "m=[80,90,95]\n",
    "sm={}\n",
    "\n",
    "for stud,mark  in zip(stud,m):\n",
    "    sm[stud]=mark"
   ]
  },
  {
   "cell_type": "code",
   "execution_count": 60,
   "id": "857a589b-8396-47b9-89f0-916feb9fbf20",
   "metadata": {},
   "outputs": [
    {
     "data": {
      "text/plain": [
       "{'a': 80, 'b': 90, 'c': 95}"
      ]
     },
     "execution_count": 60,
     "metadata": {},
     "output_type": "execute_result"
    }
   ],
   "source": [
    "sm"
   ]
  },
  {
   "cell_type": "code",
   "execution_count": 64,
   "id": "f5c87624-2c8b-444b-9f67-38a840a278ee",
   "metadata": {},
   "outputs": [
    {
     "name": "stdout",
     "output_type": "stream",
     "text": [
      "{'om': 90, 'jack': 99, 'ma': 80}\n"
     ]
    }
   ],
   "source": [
    "## using dictionary comprehansion method\n",
    "\n",
    "students = ['om', 'jack', 'ma']\n",
    "marks = [90, 99, 80]\n",
    "result = {student: mark for student, mark in zip(students, marks)}\n",
    "print(result)\n"
   ]
  },
  {
   "cell_type": "code",
   "execution_count": 65,
   "id": "efadcd79-960f-4d85-a8d1-a33fd13f779c",
   "metadata": {},
   "outputs": [
    {
     "name": "stdout",
     "output_type": "stream",
     "text": [
      "{1: {'name': 'John', 'age': '27', 'sex': 'Male'}, 2: {'name': 'Marie', 'age': '22', 'sex': 'Female'}}\n"
     ]
    }
   ],
   "source": [
    "people = {1: {'name': 'John', 'age': '27', 'sex': 'Male'},\n",
    "          2: {'name': 'Marie', 'age': '22', 'sex': 'Female'}}\n",
    "\n",
    "print(people)"
   ]
  },
  {
   "cell_type": "code",
   "execution_count": 66,
   "id": "46d661fb-64d6-4e7d-a227-bd397a65de69",
   "metadata": {},
   "outputs": [
    {
     "data": {
      "text/plain": [
       "{'name': 'John', 'age': '27', 'sex': 'Male'}"
      ]
     },
     "execution_count": 66,
     "metadata": {},
     "output_type": "execute_result"
    }
   ],
   "source": [
    "people[1]"
   ]
  },
  {
   "cell_type": "code",
   "execution_count": 67,
   "id": "12a058ea-c1da-43a4-be69-d789b5c76bea",
   "metadata": {},
   "outputs": [
    {
     "name": "stdout",
     "output_type": "stream",
     "text": [
      "John\n",
      "27\n",
      "Male\n"
     ]
    }
   ],
   "source": [
    "print(people[1]['name'])\n",
    "print(people[1]['age'])\n",
    "print(people[1]['sex'])"
   ]
  },
  {
   "cell_type": "code",
   "execution_count": 69,
   "id": "2d9880a7-5119-4995-99b7-6710fa8830da",
   "metadata": {},
   "outputs": [
    {
     "name": "stdout",
     "output_type": "stream",
     "text": [
      "1 {'name': 'John', 'age': '27', 'sex': 'Male'}\n",
      "2 {'name': 'Marie', 'age': '22', 'sex': 'Female'}\n"
     ]
    }
   ],
   "source": [
    "for key,value in people.items():##iterating dict\n",
    "    print(key,value)"
   ]
  },
  {
   "cell_type": "code",
   "execution_count": 70,
   "id": "bd295c51-5eb0-48ce-a386-9bfae6c38773",
   "metadata": {},
   "outputs": [
    {
     "name": "stdout",
     "output_type": "stream",
     "text": [
      "1\n",
      "2\n"
     ]
    }
   ],
   "source": [
    "for key in people.keys():##iterating dict with keys\n",
    "    print(key)"
   ]
  },
  {
   "cell_type": "code",
   "execution_count": 72,
   "id": "f41e8bd9-044d-42a4-8c02-90d297c3c02f",
   "metadata": {},
   "outputs": [
    {
     "name": "stdout",
     "output_type": "stream",
     "text": [
      "{'name': 'John', 'age': '27', 'sex': 'Male'}\n",
      "{'name': 'Marie', 'age': '22', 'sex': 'Female'}\n"
     ]
    }
   ],
   "source": [
    "for value in people.values():##iterating dict\n",
    "    print(value)"
   ]
  },
  {
   "cell_type": "code",
   "execution_count": null,
   "id": "5f771d94-e0ae-4fd4-8c9b-60a193a95976",
   "metadata": {},
   "outputs": [],
   "source": []
  }
 ],
 "metadata": {
  "kernelspec": {
   "display_name": "Python 3 (ipykernel)",
   "language": "python",
   "name": "python3"
  },
  "language_info": {
   "codemirror_mode": {
    "name": "ipython",
    "version": 3
   },
   "file_extension": ".py",
   "mimetype": "text/x-python",
   "name": "python",
   "nbconvert_exporter": "python",
   "pygments_lexer": "ipython3",
   "version": "3.10.8"
  }
 },
 "nbformat": 4,
 "nbformat_minor": 5
}
